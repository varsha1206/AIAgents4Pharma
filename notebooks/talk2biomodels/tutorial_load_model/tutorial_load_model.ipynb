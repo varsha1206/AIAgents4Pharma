{
 "cells": [
  {
   "cell_type": "markdown",
   "metadata": {},
   "source": [
    "# Working with SBML models using basico"
   ]
  },
  {
   "cell_type": "code",
   "execution_count": 1,
   "metadata": {},
   "outputs": [],
   "source": [
    "import basico"
   ]
  },
  {
   "cell_type": "code",
   "execution_count": 19,
   "metadata": {},
   "outputs": [],
   "source": [
    "# load SBML model\n",
    "model = basico.load_model(\"./Dwivedi_Model537_annotated.xml\")"
   ]
  },
  {
   "cell_type": "code",
   "execution_count": 20,
   "metadata": {},
   "outputs": [
    {
     "data": {
      "text/html": [
       "<div>\n",
       "<style scoped>\n",
       "    .dataframe tbody tr th:only-of-type {\n",
       "        vertical-align: middle;\n",
       "    }\n",
       "\n",
       "    .dataframe tbody tr th {\n",
       "        vertical-align: top;\n",
       "    }\n",
       "\n",
       "    .dataframe thead th {\n",
       "        text-align: right;\n",
       "    }\n",
       "</style>\n",
       "<table border=\"1\" class=\"dataframe\">\n",
       "  <thead>\n",
       "    <tr style=\"text-align: right;\">\n",
       "      <th></th>\n",
       "      <th>compartment</th>\n",
       "      <th>type</th>\n",
       "      <th>unit</th>\n",
       "      <th>initial_concentration</th>\n",
       "      <th>initial_particle_number</th>\n",
       "      <th>initial_expression</th>\n",
       "      <th>expression</th>\n",
       "      <th>concentration</th>\n",
       "      <th>particle_number</th>\n",
       "      <th>rate</th>\n",
       "      <th>particle_number_rate</th>\n",
       "      <th>key</th>\n",
       "      <th>sbml_id</th>\n",
       "      <th>transition_time</th>\n",
       "      <th>display_name</th>\n",
       "    </tr>\n",
       "    <tr>\n",
       "      <th>name</th>\n",
       "      <th></th>\n",
       "      <th></th>\n",
       "      <th></th>\n",
       "      <th></th>\n",
       "      <th></th>\n",
       "      <th></th>\n",
       "      <th></th>\n",
       "      <th></th>\n",
       "      <th></th>\n",
       "      <th></th>\n",
       "      <th></th>\n",
       "      <th></th>\n",
       "      <th></th>\n",
       "      <th></th>\n",
       "      <th></th>\n",
       "    </tr>\n",
       "  </thead>\n",
       "  <tbody>\n",
       "    <tr>\n",
       "      <th>IL6</th>\n",
       "      <td>serum</td>\n",
       "      <td>reactions</td>\n",
       "      <td>nmol/l</td>\n",
       "      <td>0.000436</td>\n",
       "      <td>2.623419e+11</td>\n",
       "      <td></td>\n",
       "      <td></td>\n",
       "      <td>0.000436</td>\n",
       "      <td>2.623419e+11</td>\n",
       "      <td>-1.565877e-17</td>\n",
       "      <td>-0.009430</td>\n",
       "      <td>Metabolite_61</td>\n",
       "      <td>mwf626e95e_543f_41e4_aad4_c6bf60ab345b</td>\n",
       "      <td>0.028719</td>\n",
       "      <td>IL6{serum}</td>\n",
       "    </tr>\n",
       "    <tr>\n",
       "      <th>sgp130</th>\n",
       "      <td>serum</td>\n",
       "      <td>reactions</td>\n",
       "      <td>nmol/l</td>\n",
       "      <td>3.900000</td>\n",
       "      <td>2.348635e+15</td>\n",
       "      <td></td>\n",
       "      <td></td>\n",
       "      <td>3.900000</td>\n",
       "      <td>2.348635e+15</td>\n",
       "      <td>0.000000e+00</td>\n",
       "      <td>0.000000</td>\n",
       "      <td>Metabolite_62</td>\n",
       "      <td>mwbbbce920_e8dd_4320_9386_fc94bfb2fc99</td>\n",
       "      <td>0.997567</td>\n",
       "      <td>sgp130{serum}</td>\n",
       "    </tr>\n",
       "    <tr>\n",
       "      <th>sR_IL6_sgp130</th>\n",
       "      <td>serum</td>\n",
       "      <td>reactions</td>\n",
       "      <td>nmol/l</td>\n",
       "      <td>0.087406</td>\n",
       "      <td>5.263716e+13</td>\n",
       "      <td></td>\n",
       "      <td></td>\n",
       "      <td>0.087406</td>\n",
       "      <td>5.263716e+13</td>\n",
       "      <td>-2.367565e-16</td>\n",
       "      <td>-0.142578</td>\n",
       "      <td>Metabolite_63</td>\n",
       "      <td>mw810ff751_fa4e_4143_bd50_169b3e325e1e</td>\n",
       "      <td>9.190533</td>\n",
       "      <td>sR_IL6_sgp130{serum}</td>\n",
       "    </tr>\n",
       "    <tr>\n",
       "      <th>CRP</th>\n",
       "      <td>serum</td>\n",
       "      <td>reactions</td>\n",
       "      <td>nmol/l</td>\n",
       "      <td>221.063676</td>\n",
       "      <td>1.331277e+17</td>\n",
       "      <td></td>\n",
       "      <td></td>\n",
       "      <td>221.063676</td>\n",
       "      <td>1.331277e+17</td>\n",
       "      <td>6.243627e-13</td>\n",
       "      <td>376.000000</td>\n",
       "      <td>Metabolite_64</td>\n",
       "      <td>mw114aa90f_5f5b_4fe8_9406_361c8489b6a1</td>\n",
       "      <td>2.777778</td>\n",
       "      <td>CRP{serum}</td>\n",
       "    </tr>\n",
       "    <tr>\n",
       "      <th>sR</th>\n",
       "      <td>serum</td>\n",
       "      <td>reactions</td>\n",
       "      <td>nmol/l</td>\n",
       "      <td>4.253507</td>\n",
       "      <td>2.561522e+15</td>\n",
       "      <td></td>\n",
       "      <td></td>\n",
       "      <td>4.253507</td>\n",
       "      <td>2.561522e+15</td>\n",
       "      <td>1.307675e-14</td>\n",
       "      <td>7.875000</td>\n",
       "      <td>Metabolite_65</td>\n",
       "      <td>mw30ae63db_6cd3_4b6f_93ad_3350cd360bcc</td>\n",
       "      <td>3.283772</td>\n",
       "      <td>sR{serum}</td>\n",
       "    </tr>\n",
       "  </tbody>\n",
       "</table>\n",
       "</div>"
      ],
      "text/plain": [
       "              compartment       type    unit  initial_concentration  \\\n",
       "name                                                                  \n",
       "IL6                 serum  reactions  nmol/l               0.000436   \n",
       "sgp130              serum  reactions  nmol/l               3.900000   \n",
       "sR_IL6_sgp130       serum  reactions  nmol/l               0.087406   \n",
       "CRP                 serum  reactions  nmol/l             221.063676   \n",
       "sR                  serum  reactions  nmol/l               4.253507   \n",
       "\n",
       "               initial_particle_number initial_expression expression  \\\n",
       "name                                                                   \n",
       "IL6                       2.623419e+11                                 \n",
       "sgp130                    2.348635e+15                                 \n",
       "sR_IL6_sgp130             5.263716e+13                                 \n",
       "CRP                       1.331277e+17                                 \n",
       "sR                        2.561522e+15                                 \n",
       "\n",
       "               concentration  particle_number          rate  \\\n",
       "name                                                          \n",
       "IL6                 0.000436     2.623419e+11 -1.565877e-17   \n",
       "sgp130              3.900000     2.348635e+15  0.000000e+00   \n",
       "sR_IL6_sgp130       0.087406     5.263716e+13 -2.367565e-16   \n",
       "CRP               221.063676     1.331277e+17  6.243627e-13   \n",
       "sR                  4.253507     2.561522e+15  1.307675e-14   \n",
       "\n",
       "               particle_number_rate            key  \\\n",
       "name                                                 \n",
       "IL6                       -0.009430  Metabolite_61   \n",
       "sgp130                     0.000000  Metabolite_62   \n",
       "sR_IL6_sgp130             -0.142578  Metabolite_63   \n",
       "CRP                      376.000000  Metabolite_64   \n",
       "sR                         7.875000  Metabolite_65   \n",
       "\n",
       "                                              sbml_id  transition_time  \\\n",
       "name                                                                     \n",
       "IL6            mwf626e95e_543f_41e4_aad4_c6bf60ab345b         0.028719   \n",
       "sgp130         mwbbbce920_e8dd_4320_9386_fc94bfb2fc99         0.997567   \n",
       "sR_IL6_sgp130  mw810ff751_fa4e_4143_bd50_169b3e325e1e         9.190533   \n",
       "CRP            mw114aa90f_5f5b_4fe8_9406_361c8489b6a1         2.777778   \n",
       "sR             mw30ae63db_6cd3_4b6f_93ad_3350cd360bcc         3.283772   \n",
       "\n",
       "                       display_name  \n",
       "name                                 \n",
       "IL6                      IL6{serum}  \n",
       "sgp130                sgp130{serum}  \n",
       "sR_IL6_sgp130  sR_IL6_sgp130{serum}  \n",
       "CRP                      CRP{serum}  \n",
       "sR                        sR{serum}  "
      ]
     },
     "execution_count": 20,
     "metadata": {},
     "output_type": "execute_result"
    }
   ],
   "source": [
    "# get model species\n",
    "species = basico.get_species()\n",
    "species.head()"
   ]
  },
  {
   "cell_type": "code",
   "execution_count": 27,
   "metadata": {},
   "outputs": [
    {
     "name": "stdout",
     "output_type": "stream",
     "text": [
      "['0000282', '0023999', '0024646', 'CHEBI:139356', 'CHEBI:33699', 'CHEBI:64297', 'GO:0008385', 'GO:0033256', 'IPR000837', 'O09110', 'P25118', 'P25799', 'P31938', 'P39429', 'P47809', 'P47811', 'P63085', 'P70191', 'P70196', 'P70236', 'Q3U0V2', 'Q571K4', 'Q60855', 'Q62073', 'Q63844', 'Q63932', 'Q8CE90', 'Q91WA6', 'Q91Y86', 'Q924T7', 'Q99K90', 'Q9WTK5', 'Q9WTU6', 'Q9WUB0', 'Q9Z1E3', 'SBO:0000590']\n"
     ]
    }
   ],
   "source": [
    "# get unique annotations for all species\n",
    "all_ids = []\n",
    "for species_name in species.index:\n",
    "    for d in basico.get_miriam_annotation(name=species_name)['descriptions']:\n",
    "        if d['id'] not in all_ids:\n",
    "            all_ids.append(d['id'])\n",
    "print(sorted(all_ids))"
   ]
  },
  {
   "cell_type": "code",
   "execution_count": 28,
   "metadata": {},
   "outputs": [
    {
     "name": "stdout",
     "output_type": "stream",
     "text": [
      "['BioAssay Ontology', 'ChEBI', 'Gene Ontology', 'InterPro', 'OMIT', 'Systems Biology Ontology', 'UniProt Knowledgebase']\n"
     ]
    }
   ],
   "source": [
    "# print unique resouces\n",
    "all_resources = []\n",
    "for species_name in species.index:\n",
    "    for d in basico.get_miriam_annotation(name=species_name)['descriptions']:\n",
    "        if d['resource'] not in all_resources:\n",
    "            all_resources.append(d['resource'])\n",
    "print(sorted(all_resources))"
   ]
  },
  {
   "cell_type": "code",
   "execution_count": 6,
   "metadata": {},
   "outputs": [
    {
     "data": {
      "text/plain": [
       "[{'id': '3569',\n",
       "  'qualifier': 'is version of',\n",
       "  'uri': 'http://identifiers.org/ncbigene/3569',\n",
       "  'resource': 'NCBI Gene'},\n",
       " {'id': 'P05231',\n",
       "  'qualifier': 'is version of',\n",
       "  'uri': 'http://identifiers.org/uniprot/P05231',\n",
       "  'resource': 'UniProt Knowledgebase'},\n",
       " {'id': 'BTO:0000759',\n",
       "  'qualifier': 'is version of',\n",
       "  'uri': 'http://identifiers.org/BTO:0000759',\n",
       "  'resource': 'Brenda Tissue Ontology'}]"
      ]
     },
     "execution_count": 6,
     "metadata": {},
     "output_type": "execute_result"
    }
   ],
   "source": [
    "# print all annotations for one species\n",
    "basico.get_miriam_annotation(name='IL6')['descriptions']"
   ]
  },
  {
   "cell_type": "code",
   "execution_count": null,
   "metadata": {},
   "outputs": [],
   "source": []
  }
 ],
 "metadata": {
  "kernelspec": {
   "display_name": "Python 3",
   "language": "python",
   "name": "python3"
  },
  "language_info": {
   "codemirror_mode": {
    "name": "ipython",
    "version": 3
   },
   "file_extension": ".py",
   "mimetype": "text/x-python",
   "name": "python",
   "nbconvert_exporter": "python",
   "pygments_lexer": "ipython3",
   "version": "3.12.0"
  }
 },
 "nbformat": 4,
 "nbformat_minor": 2
}
