{
 "cells": [
  {
   "cell_type": "markdown",
   "metadata": {},
   "source": [
    "# Parameter Estimation using basico\n"
   ]
  },
  {
   "cell_type": "markdown",
   "metadata": {},
   "source": [
    "**Description** <br>\n",
    "Parameter estimation (parameter fitting) is a process of finding the best set of parameters for a model to fit the experimental data. Basico enables both local and global parameter estimation algorithms.\n",
    "\n",
    "**Setup** <br>\n",
    "To accomplish parameter estimation task, the following components are required:\n",
    "* model *(ODE model in SBML format)*\n",
    "* experimental data *(time series in a table format)*\n",
    "* parameters to be estimated *(can be both kinetic parameters and initial concentrations)*\n",
    "* algorithms for the parameter estimation task (see here: https://basico.readthedocs.io/en/latest/API/basico.html#basico.task_parameterestimation.run_parameter_estimation)\n",
    "* available range (constraints) for the parameters"
   ]
  },
  {
   "cell_type": "markdown",
   "metadata": {},
   "source": [
    "**Parameter estimation workflow from users perspective** <br\n",
    "Choose the initial parameter values and ranges\n",
    "Choose the algorithm\n",
    "Run the parameter fitting\n",
    "Visually inspect the plot of data vs fit\n",
    "Review the table of fit statistics with parameters basico.get_fit_statistic(include_parameters=True)\n",
    "Repeat 1 - 5\n",
    "\n",
    "\n",
    "1. Load model and remove previous experiments (`basico.remove_experiments()`)\n",
    "2. Add experimental data (`basico.add_experiment(name, data)`)\n",
    "3. Add reaction parameters to be estimated together with their upper and lower bounds <br>\n",
    "Create a list of dictionaries where each dictionary contains the name of the parameter, its lower and upper bounds. <br>\n",
    "E.g.\n",
    "```\n",
    "fit_items = [\n",
    "            {'name': '(R1).k1', 'lower': 0.001, 'upper': 2},\n",
    "            {'name': '(R2).k1', 'lower': 0.001, 'upper': 2},\n",
    "            {'name': '(R3).k1', 'lower': 0.001, 'upper': 2},\n",
    "            {'name': '(R4).k1', 'lower': 0.001, 'upper': 2},\n",
    "        ]\t\n",
    "```\n",
    "4. Set parameters to be estimated (`basico.set_fit_parameters(fit_items)`) <br>\n",
    "4.1 (optional) Constrains for the concentrations. Solutions with concentrations outside a certain range are rejected. <br>\n",
    "5. Run parameter estimation (`basico.run_parameter_estimation(method='Levenberg - Marquardt', update_model=True)`). If the  `update_model` parameter is set to `True`, the model will be updated with the estimated parameters, thus it is possible to restart the estimation process from the same point in the parameter space, but with different algorithm.\n",
    "6. Evaluate the results <br>\n",
    "6.1 Visually inspect the plot of data vs fit (run model simulation with the estimated parameters)\n",
    "6.2 Inspect fit statistics, parameter values and the objective function value. <br>\n",
    "`basico.get_fit_statistic(include_parameters=True)`\n",
    "7. Repeat points 4 - 6 until the desired outcome is reached."
   ]
  },
  {
   "cell_type": "markdown",
   "metadata": {},
   "source": [
    "**Visualisation and ouput** <br>\n",
    "The progress of the parameter estimation can be tracked visually by observing the objective value (y -axis) over number of iterations (x-axis) of the estimation algorithm, ideally, as a curve. Also output of the estimated values in a table where *before* and *after* values can be compared would be beneficial."
   ]
  },
  {
   "cell_type": "markdown",
   "metadata": {},
   "source": [
    "**Testing** <br>\n",
    "Use the example below ('brusselator') to see if the parameter estimation is running correctly. Ideally, the estimation should end with exactly the original parameters of this example. The estimation process can be time and resource-consuming. For testing it is important to use local methods, such as , e.g. `Levenberg - Marquardt` or set **the seed** for global methods, since global methods use stochastic algorithms to set initial starting point for the estimation."
   ]
  },
  {
   "cell_type": "markdown",
   "metadata": {},
   "source": [
    "**Note** <br>\n",
    "Since parameter estimation task is usually an interative process, the user should be able to stop the estimation process at any time, evaluate the results, and resume it with another algorithm or with the same algorithm.\n"
   ]
  },
  {
   "cell_type": "markdown",
   "metadata": {},
   "source": [
    "# Parameter estimation task"
   ]
  },
  {
   "cell_type": "code",
   "execution_count": 32,
   "metadata": {},
   "outputs": [],
   "source": [
    "import os\n",
    "import pandas as pd\n",
    "import basico\n",
    "import matplotlib.pyplot as plt\n",
    "import numpy as np"
   ]
  },
  {
   "cell_type": "markdown",
   "metadata": {},
   "source": [
    "## 0 Generate mock data\n",
    "For demonstration and testing purpose."
   ]
  },
  {
   "cell_type": "code",
   "execution_count": 33,
   "metadata": {},
   "outputs": [],
   "source": [
    "# load model and remove experimental data\n",
    "basico.load_example('brusselator')\n",
    "# remove previous experiments to avoid contamination\n",
    "basico.remove_experiments()"
   ]
  },
  {
   "cell_type": "code",
   "execution_count": 34,
   "metadata": {},
   "outputs": [
    {
     "data": {
      "text/html": [
       "<div>\n",
       "<style scoped>\n",
       "    .dataframe tbody tr th:only-of-type {\n",
       "        vertical-align: middle;\n",
       "    }\n",
       "\n",
       "    .dataframe tbody tr th {\n",
       "        vertical-align: top;\n",
       "    }\n",
       "\n",
       "    .dataframe thead th {\n",
       "        text-align: right;\n",
       "    }\n",
       "</style>\n",
       "<table border=\"1\" class=\"dataframe\">\n",
       "  <thead>\n",
       "    <tr style=\"text-align: right;\">\n",
       "      <th></th>\n",
       "      <th>X</th>\n",
       "      <th>Y</th>\n",
       "      <th>Values[obs_x]</th>\n",
       "      <th>Values[obs_y]</th>\n",
       "    </tr>\n",
       "    <tr>\n",
       "      <th>Time</th>\n",
       "      <th></th>\n",
       "      <th></th>\n",
       "      <th></th>\n",
       "      <th></th>\n",
       "    </tr>\n",
       "  </thead>\n",
       "  <tbody>\n",
       "    <tr>\n",
       "      <th>0.0</th>\n",
       "      <td>2.999996</td>\n",
       "      <td>2.999996</td>\n",
       "      <td>2.944745</td>\n",
       "      <td>2.658725</td>\n",
       "    </tr>\n",
       "    <tr>\n",
       "      <th>0.5</th>\n",
       "      <td>3.408155</td>\n",
       "      <td>0.817484</td>\n",
       "      <td>3.312834</td>\n",
       "      <td>0.860739</td>\n",
       "    </tr>\n",
       "    <tr>\n",
       "      <th>1.0</th>\n",
       "      <td>1.896454</td>\n",
       "      <td>1.276790</td>\n",
       "      <td>2.329036</td>\n",
       "      <td>1.289104</td>\n",
       "    </tr>\n",
       "    <tr>\n",
       "      <th>1.5</th>\n",
       "      <td>0.876253</td>\n",
       "      <td>1.872929</td>\n",
       "      <td>1.127705</td>\n",
       "      <td>1.871687</td>\n",
       "    </tr>\n",
       "    <tr>\n",
       "      <th>2.0</th>\n",
       "      <td>0.345934</td>\n",
       "      <td>2.368188</td>\n",
       "      <td>0.194957</td>\n",
       "      <td>2.430537</td>\n",
       "    </tr>\n",
       "  </tbody>\n",
       "</table>\n",
       "</div>"
      ],
      "text/plain": [
       "             X         Y  Values[obs_x]  Values[obs_y]\n",
       "Time                                                  \n",
       "0.0   2.999996  2.999996       2.944745       2.658725\n",
       "0.5   3.408155  0.817484       3.312834       0.860739\n",
       "1.0   1.896454  1.276790       2.329036       1.289104\n",
       "1.5   0.876253  1.872929       1.127705       1.871687\n",
       "2.0   0.345934  2.368188       0.194957       2.430537"
      ]
     },
     "execution_count": 34,
     "metadata": {},
     "output_type": "execute_result"
    }
   ],
   "source": [
    "# create noisy data from the model, that we will take for a parameter estimation\n",
    "basico.add_parameter('obs_x', type='assignment', expression='[X] + UNIFORM(0,1) - 0.5')\n",
    "basico.add_parameter('obs_y', type='assignment', expression='[Y] + UNIFORM(0,1) - 0.5');\n",
    "\n",
    "# run a time course to generate time-series\n",
    "result = basico.run_time_course(start_time=0, use_number=True)\n",
    "\n",
    "#  generated time-series\n",
    "# the \"mock\" experimental data is under Values[obs_x] and Values[obs_y]\n",
    "result.head()"
   ]
  },
  {
   "cell_type": "code",
   "execution_count": 35,
   "metadata": {},
   "outputs": [
    {
     "data": {
      "text/html": [
       "<div>\n",
       "<style scoped>\n",
       "    .dataframe tbody tr th:only-of-type {\n",
       "        vertical-align: middle;\n",
       "    }\n",
       "\n",
       "    .dataframe tbody tr th {\n",
       "        vertical-align: top;\n",
       "    }\n",
       "\n",
       "    .dataframe thead th {\n",
       "        text-align: right;\n",
       "    }\n",
       "</style>\n",
       "<table border=\"1\" class=\"dataframe\">\n",
       "  <thead>\n",
       "    <tr style=\"text-align: right;\">\n",
       "      <th></th>\n",
       "      <th>Time</th>\n",
       "      <th>[X]</th>\n",
       "      <th>[Y]</th>\n",
       "    </tr>\n",
       "  </thead>\n",
       "  <tbody>\n",
       "    <tr>\n",
       "      <th>0</th>\n",
       "      <td>0.0</td>\n",
       "      <td>2.944745</td>\n",
       "      <td>2.658725</td>\n",
       "    </tr>\n",
       "    <tr>\n",
       "      <th>1</th>\n",
       "      <td>0.5</td>\n",
       "      <td>3.312834</td>\n",
       "      <td>0.860739</td>\n",
       "    </tr>\n",
       "    <tr>\n",
       "      <th>2</th>\n",
       "      <td>1.0</td>\n",
       "      <td>2.329036</td>\n",
       "      <td>1.289104</td>\n",
       "    </tr>\n",
       "    <tr>\n",
       "      <th>3</th>\n",
       "      <td>1.5</td>\n",
       "      <td>1.127705</td>\n",
       "      <td>1.871687</td>\n",
       "    </tr>\n",
       "    <tr>\n",
       "      <th>4</th>\n",
       "      <td>2.0</td>\n",
       "      <td>0.194957</td>\n",
       "      <td>2.430537</td>\n",
       "    </tr>\n",
       "  </tbody>\n",
       "</table>\n",
       "</div>"
      ],
      "text/plain": [
       "   Time       [X]       [Y]\n",
       "0   0.0  2.944745  2.658725\n",
       "1   0.5  3.312834  0.860739\n",
       "2   1.0  2.329036  1.289104\n",
       "3   1.5  1.127705  1.871687\n",
       "4   2.0  0.194957  2.430537"
      ]
     },
     "execution_count": 35,
     "metadata": {},
     "output_type": "execute_result"
    }
   ],
   "source": [
    "# clean up the \"experimental data\"\n",
    "data = result.drop(columns=['X', 'Y'])\n",
    "data.rename(columns = {'Values[obs_x]':'[X]', 'Values[obs_y]':'[Y]'}, inplace=True)\n",
    "data = data.reset_index()\n",
    "\n",
    "# clean up parameter values\n",
    "basico.remove_parameter('obs_x')\n",
    "basico.remove_parameter('obs_y')\n",
    "\n",
    "# sow cleaned version\n",
    "data.head()"
   ]
  },
  {
   "cell_type": "markdown",
   "metadata": {},
   "source": [
    "#### Perturb model parameters"
   ]
  },
  {
   "cell_type": "code",
   "execution_count": 36,
   "metadata": {},
   "outputs": [
    {
     "data": {
      "text/html": [
       "<div>\n",
       "<style scoped>\n",
       "    .dataframe tbody tr th:only-of-type {\n",
       "        vertical-align: middle;\n",
       "    }\n",
       "\n",
       "    .dataframe tbody tr th {\n",
       "        vertical-align: top;\n",
       "    }\n",
       "\n",
       "    .dataframe thead th {\n",
       "        text-align: right;\n",
       "    }\n",
       "</style>\n",
       "<table border=\"1\" class=\"dataframe\">\n",
       "  <thead>\n",
       "    <tr style=\"text-align: right;\">\n",
       "      <th></th>\n",
       "      <th>value</th>\n",
       "      <th>reaction</th>\n",
       "      <th>type</th>\n",
       "      <th>mapped_to</th>\n",
       "    </tr>\n",
       "    <tr>\n",
       "      <th>name</th>\n",
       "      <th></th>\n",
       "      <th></th>\n",
       "      <th></th>\n",
       "      <th></th>\n",
       "    </tr>\n",
       "  </thead>\n",
       "  <tbody>\n",
       "    <tr>\n",
       "      <th>(R1).k1</th>\n",
       "      <td>1.0</td>\n",
       "      <td>R1</td>\n",
       "      <td>local</td>\n",
       "      <td></td>\n",
       "    </tr>\n",
       "    <tr>\n",
       "      <th>(R2).k1</th>\n",
       "      <td>1.0</td>\n",
       "      <td>R2</td>\n",
       "      <td>local</td>\n",
       "      <td></td>\n",
       "    </tr>\n",
       "    <tr>\n",
       "      <th>(R3).k1</th>\n",
       "      <td>1.0</td>\n",
       "      <td>R3</td>\n",
       "      <td>local</td>\n",
       "      <td></td>\n",
       "    </tr>\n",
       "    <tr>\n",
       "      <th>(R4).k1</th>\n",
       "      <td>1.0</td>\n",
       "      <td>R4</td>\n",
       "      <td>local</td>\n",
       "      <td></td>\n",
       "    </tr>\n",
       "  </tbody>\n",
       "</table>\n",
       "</div>"
      ],
      "text/plain": [
       "         value reaction   type mapped_to\n",
       "name                                    \n",
       "(R1).k1    1.0       R1  local          \n",
       "(R2).k1    1.0       R2  local          \n",
       "(R3).k1    1.0       R3  local          \n",
       "(R4).k1    1.0       R4  local          "
      ]
     },
     "execution_count": 36,
     "metadata": {},
     "output_type": "execute_result"
    }
   ],
   "source": [
    "# initial parameters\n",
    "basico.get_reaction_parameters()"
   ]
  },
  {
   "cell_type": "code",
   "execution_count": 37,
   "metadata": {},
   "outputs": [],
   "source": [
    "# change parameters so we have a starting point for the estimation task\n",
    "basico.set_reaction_parameters(['(R1).k1', '(R2).k1', '(R3).k1', '(R4).k1'], value=0.5)\n",
    "\n",
    "# view simulation of the edited values\n",
    "#basico.run_time_course(start_time=0).plot();"
   ]
  },
  {
   "cell_type": "code",
   "execution_count": 38,
   "metadata": {},
   "outputs": [
    {
     "data": {
      "text/html": [
       "<div>\n",
       "<style scoped>\n",
       "    .dataframe tbody tr th:only-of-type {\n",
       "        vertical-align: middle;\n",
       "    }\n",
       "\n",
       "    .dataframe tbody tr th {\n",
       "        vertical-align: top;\n",
       "    }\n",
       "\n",
       "    .dataframe thead th {\n",
       "        text-align: right;\n",
       "    }\n",
       "</style>\n",
       "<table border=\"1\" class=\"dataframe\">\n",
       "  <thead>\n",
       "    <tr style=\"text-align: right;\">\n",
       "      <th></th>\n",
       "      <th>value</th>\n",
       "      <th>reaction</th>\n",
       "      <th>type</th>\n",
       "      <th>mapped_to</th>\n",
       "    </tr>\n",
       "    <tr>\n",
       "      <th>name</th>\n",
       "      <th></th>\n",
       "      <th></th>\n",
       "      <th></th>\n",
       "      <th></th>\n",
       "    </tr>\n",
       "  </thead>\n",
       "  <tbody>\n",
       "    <tr>\n",
       "      <th>(R1).k1</th>\n",
       "      <td>0.5</td>\n",
       "      <td>R1</td>\n",
       "      <td>local</td>\n",
       "      <td></td>\n",
       "    </tr>\n",
       "    <tr>\n",
       "      <th>(R2).k1</th>\n",
       "      <td>0.5</td>\n",
       "      <td>R2</td>\n",
       "      <td>local</td>\n",
       "      <td></td>\n",
       "    </tr>\n",
       "    <tr>\n",
       "      <th>(R3).k1</th>\n",
       "      <td>0.5</td>\n",
       "      <td>R3</td>\n",
       "      <td>local</td>\n",
       "      <td></td>\n",
       "    </tr>\n",
       "    <tr>\n",
       "      <th>(R4).k1</th>\n",
       "      <td>0.5</td>\n",
       "      <td>R4</td>\n",
       "      <td>local</td>\n",
       "      <td></td>\n",
       "    </tr>\n",
       "  </tbody>\n",
       "</table>\n",
       "</div>"
      ],
      "text/plain": [
       "         value reaction   type mapped_to\n",
       "name                                    \n",
       "(R1).k1    0.5       R1  local          \n",
       "(R2).k1    0.5       R2  local          \n",
       "(R3).k1    0.5       R3  local          \n",
       "(R4).k1    0.5       R4  local          "
      ]
     },
     "execution_count": 38,
     "metadata": {},
     "output_type": "execute_result"
    }
   ],
   "source": [
    "# review if the setting was successful\n",
    "basico.get_reaction_parameters()"
   ]
  },
  {
   "cell_type": "markdown",
   "metadata": {},
   "source": [
    "## 1. Add experimental data to a model"
   ]
  },
  {
   "cell_type": "code",
   "execution_count": null,
   "metadata": {},
   "outputs": [
    {
     "data": {
      "text/plain": [
       "'c:\\\\Users\\\\Wehling\\\\code\\\\feat-estimation\\\\AIAgents4Pharma\\\\docs\\\\notebooks\\\\talk2biomodels\\\\exp1.txt'"
      ]
     },
     "metadata": {},
     "output_type": "display_data"
    }
   ],
   "source": [
    "# add experimental data to the estimation task\n",
    "basico.add_experiment('exp1', data)"
   ]
  },
  {
   "cell_type": "code",
   "execution_count": null,
   "metadata": {},
   "outputs": [
    {
     "data": {
      "text/html": [
       "<div>\n",
       "<style scoped>\n",
       "    .dataframe tbody tr th:only-of-type {\n",
       "        vertical-align: middle;\n",
       "    }\n",
       "\n",
       "    .dataframe tbody tr th {\n",
       "        vertical-align: top;\n",
       "    }\n",
       "\n",
       "    .dataframe thead th {\n",
       "        text-align: right;\n",
       "    }\n",
       "</style>\n",
       "<table border=\"1\" class=\"dataframe\">\n",
       "  <thead>\n",
       "    <tr style=\"text-align: right;\">\n",
       "      <th></th>\n",
       "      <th>type</th>\n",
       "      <th>mapping</th>\n",
       "      <th>cn</th>\n",
       "      <th>column_name</th>\n",
       "    </tr>\n",
       "    <tr>\n",
       "      <th>column</th>\n",
       "      <th></th>\n",
       "      <th></th>\n",
       "      <th></th>\n",
       "      <th></th>\n",
       "    </tr>\n",
       "  </thead>\n",
       "  <tbody>\n",
       "    <tr>\n",
       "      <th>0</th>\n",
       "      <td>time</td>\n",
       "      <td></td>\n",
       "      <td></td>\n",
       "      <td>Time</td>\n",
       "    </tr>\n",
       "    <tr>\n",
       "      <th>1</th>\n",
       "      <td>dependent</td>\n",
       "      <td>[X]</td>\n",
       "      <td>CN=Root,Model=The Brusselator,Vector=Compartme...</td>\n",
       "      <td>[X]</td>\n",
       "    </tr>\n",
       "    <tr>\n",
       "      <th>2</th>\n",
       "      <td>dependent</td>\n",
       "      <td>[Y]</td>\n",
       "      <td>CN=Root,Model=The Brusselator,Vector=Compartme...</td>\n",
       "      <td>[Y]</td>\n",
       "    </tr>\n",
       "  </tbody>\n",
       "</table>\n",
       "</div>"
      ],
      "text/plain": [
       "             type mapping                                                 cn  \\\n",
       "column                                                                         \n",
       "0            time                                                              \n",
       "1       dependent     [X]  CN=Root,Model=The Brusselator,Vector=Compartme...   \n",
       "2       dependent     [Y]  CN=Root,Model=The Brusselator,Vector=Compartme...   \n",
       "\n",
       "       column_name  \n",
       "column              \n",
       "0             Time  \n",
       "1              [X]  \n",
       "2              [Y]  "
      ]
     },
     "metadata": {},
     "output_type": "display_data"
    }
   ],
   "source": [
    "#check if the mapping was correct\n",
    "basico.get_experiment_mapping('exp1')"
   ]
  },
  {
   "cell_type": "code",
   "execution_count": null,
   "metadata": {},
   "outputs": [
    {
     "ename": "NameError",
     "evalue": "name 'basico' is not defined",
     "output_type": "error",
     "traceback": [
      "\u001b[1;31m---------------------------------------------------------------------------\u001b[0m\n",
      "\u001b[1;31mNameError\u001b[0m                                 Traceback (most recent call last)\n",
      "Cell \u001b[1;32mIn[1], line 2\u001b[0m\n",
      "\u001b[0;32m      1\u001b[0m \u001b[38;5;66;03m# Review how experimental data maps to the current simulation\u001b[39;00m\n",
      "\u001b[1;32m----> 2\u001b[0m \u001b[43mbasico\u001b[49m\u001b[38;5;241m.\u001b[39mplot_per_experiment();\n",
      "\n",
      "\u001b[1;31mNameError\u001b[0m: name 'basico' is not defined"
     ]
    }
   ],
   "source": [
    "# Review how experimental data maps to the current simulation\n",
    "basico.plot_per_experiment();"
   ]
  },
  {
   "cell_type": "markdown",
   "metadata": {},
   "source": [
    "##  2. Choose parameters to be estimated and the initial parameter values and ranges"
   ]
  },
  {
   "cell_type": "code",
   "execution_count": 39,
   "metadata": {},
   "outputs": [],
   "source": [
    "# adding reaction parameters to the experiment\n",
    "fit_items = [\n",
    "            {'name': '(R1).k1', 'lower': 0.001, 'upper': 2},\n",
    "            {'name': '(R2).k1', 'lower': 0.001, 'upper': 2},\n",
    "            {'name': '(R3).k1', 'lower': 0.001, 'upper': 2},\n",
    "            {'name': '(R4).k1', 'lower': 0.001, 'upper': 2},\n",
    "        ]\n"
   ]
  },
  {
   "cell_type": "code",
   "execution_count": 40,
   "metadata": {},
   "outputs": [
    {
     "data": {
      "text/html": [
       "<div>\n",
       "<style scoped>\n",
       "    .dataframe tbody tr th:only-of-type {\n",
       "        vertical-align: middle;\n",
       "    }\n",
       "\n",
       "    .dataframe tbody tr th {\n",
       "        vertical-align: top;\n",
       "    }\n",
       "\n",
       "    .dataframe thead th {\n",
       "        text-align: right;\n",
       "    }\n",
       "</style>\n",
       "<table border=\"1\" class=\"dataframe\">\n",
       "  <thead>\n",
       "    <tr style=\"text-align: right;\">\n",
       "      <th></th>\n",
       "      <th>lower</th>\n",
       "      <th>upper</th>\n",
       "      <th>start</th>\n",
       "      <th>affected</th>\n",
       "      <th>cn</th>\n",
       "    </tr>\n",
       "    <tr>\n",
       "      <th>name</th>\n",
       "      <th></th>\n",
       "      <th></th>\n",
       "      <th></th>\n",
       "      <th></th>\n",
       "      <th></th>\n",
       "    </tr>\n",
       "  </thead>\n",
       "  <tbody>\n",
       "    <tr>\n",
       "      <th>(R1).k1</th>\n",
       "      <td>0.001</td>\n",
       "      <td>2</td>\n",
       "      <td>0.5</td>\n",
       "      <td>[]</td>\n",
       "      <td>CN=Root,Model=The Brusselator,Vector=Reactions...</td>\n",
       "    </tr>\n",
       "    <tr>\n",
       "      <th>(R2).k1</th>\n",
       "      <td>0.001</td>\n",
       "      <td>2</td>\n",
       "      <td>0.5</td>\n",
       "      <td>[]</td>\n",
       "      <td>CN=Root,Model=The Brusselator,Vector=Reactions...</td>\n",
       "    </tr>\n",
       "    <tr>\n",
       "      <th>(R3).k1</th>\n",
       "      <td>0.001</td>\n",
       "      <td>2</td>\n",
       "      <td>0.5</td>\n",
       "      <td>[]</td>\n",
       "      <td>CN=Root,Model=The Brusselator,Vector=Reactions...</td>\n",
       "    </tr>\n",
       "    <tr>\n",
       "      <th>(R4).k1</th>\n",
       "      <td>0.001</td>\n",
       "      <td>2</td>\n",
       "      <td>0.5</td>\n",
       "      <td>[]</td>\n",
       "      <td>CN=Root,Model=The Brusselator,Vector=Reactions...</td>\n",
       "    </tr>\n",
       "  </tbody>\n",
       "</table>\n",
       "</div>"
      ],
      "text/plain": [
       "         lower upper  start affected  \\\n",
       "name                                   \n",
       "(R1).k1  0.001     2    0.5       []   \n",
       "(R2).k1  0.001     2    0.5       []   \n",
       "(R3).k1  0.001     2    0.5       []   \n",
       "(R4).k1  0.001     2    0.5       []   \n",
       "\n",
       "                                                        cn  \n",
       "name                                                        \n",
       "(R1).k1  CN=Root,Model=The Brusselator,Vector=Reactions...  \n",
       "(R2).k1  CN=Root,Model=The Brusselator,Vector=Reactions...  \n",
       "(R3).k1  CN=Root,Model=The Brusselator,Vector=Reactions...  \n",
       "(R4).k1  CN=Root,Model=The Brusselator,Vector=Reactions...  "
      ]
     },
     "execution_count": 40,
     "metadata": {},
     "output_type": "execute_result"
    }
   ],
   "source": [
    "basico.set_fit_parameters(fit_items)\n",
    "basico.get_fit_parameters()"
   ]
  },
  {
   "cell_type": "code",
   "execution_count": 41,
   "metadata": {},
   "outputs": [
    {
     "data": {
      "text/html": [
       "<div>\n",
       "<style scoped>\n",
       "    .dataframe tbody tr th:only-of-type {\n",
       "        vertical-align: middle;\n",
       "    }\n",
       "\n",
       "    .dataframe tbody tr th {\n",
       "        vertical-align: top;\n",
       "    }\n",
       "\n",
       "    .dataframe thead th {\n",
       "        text-align: right;\n",
       "    }\n",
       "</style>\n",
       "<table border=\"1\" class=\"dataframe\">\n",
       "  <thead>\n",
       "    <tr style=\"text-align: right;\">\n",
       "      <th></th>\n",
       "      <th>Time</th>\n",
       "      <th>[X]</th>\n",
       "      <th>[Y]</th>\n",
       "    </tr>\n",
       "  </thead>\n",
       "  <tbody>\n",
       "    <tr>\n",
       "      <th>0</th>\n",
       "      <td>0.0</td>\n",
       "      <td>2.944745</td>\n",
       "      <td>2.658725</td>\n",
       "    </tr>\n",
       "    <tr>\n",
       "      <th>1</th>\n",
       "      <td>0.5</td>\n",
       "      <td>3.312834</td>\n",
       "      <td>0.860739</td>\n",
       "    </tr>\n",
       "    <tr>\n",
       "      <th>2</th>\n",
       "      <td>1.0</td>\n",
       "      <td>2.329036</td>\n",
       "      <td>1.289104</td>\n",
       "    </tr>\n",
       "    <tr>\n",
       "      <th>3</th>\n",
       "      <td>1.5</td>\n",
       "      <td>1.127705</td>\n",
       "      <td>1.871687</td>\n",
       "    </tr>\n",
       "    <tr>\n",
       "      <th>4</th>\n",
       "      <td>2.0</td>\n",
       "      <td>0.194957</td>\n",
       "      <td>2.430537</td>\n",
       "    </tr>\n",
       "  </tbody>\n",
       "</table>\n",
       "</div>"
      ],
      "text/plain": [
       "   Time       [X]       [Y]\n",
       "0   0.0  2.944745  2.658725\n",
       "1   0.5  3.312834  0.860739\n",
       "2   1.0  2.329036  1.289104\n",
       "3   1.5  1.127705  1.871687\n",
       "4   2.0  0.194957  2.430537"
      ]
     },
     "execution_count": 41,
     "metadata": {},
     "output_type": "execute_result"
    }
   ],
   "source": [
    "# here's how data looks like\n",
    "data.head()"
   ]
  },
  {
   "cell_type": "markdown",
   "metadata": {},
   "source": [
    "### 2.1 Set constraints for the concentrations\n"
   ]
  },
  {
   "cell_type": "code",
   "execution_count": 42,
   "metadata": {},
   "outputs": [],
   "source": [
    "#setting constraints for the fitting task\n",
    "# solutions with concentrations outside a certain range are rejected\n",
    "basico.set_fit_constraints([\n",
    "    {'name': 'Y', 'lower': 0, 'upper': 10}\n",
    "])"
   ]
  },
  {
   "cell_type": "markdown",
   "metadata": {},
   "source": [
    "## 3. Run parameter estimation task"
   ]
  },
  {
   "cell_type": "markdown",
   "metadata": {},
   "source": [
    "Choose algorithms form :\n",
    " \n",
    " * Current Solution\n",
    " \n",
    " * Current Solution Statistics\n",
    "\n",
    "Global Methods:\n",
    "\n",
    "* Random Search\n",
    "\n",
    "* Simulated Annealing\n",
    "\n",
    "* Differential Evolution\n",
    "\n",
    "* Scatter Search\n",
    "\n",
    "* Genetic Algorithm\n",
    "\n",
    "* Evolutionary Programming\n",
    "\n",
    "* Genetic Algorithm SR\n",
    "\n",
    "* Evolution Strategy (SRES)\n",
    "\n",
    "* Particle Swarm\n",
    "\n",
    "Local Methods:\n",
    "\n",
    "*    Levenberg - Marquardt,\n",
    "\n",
    "*    Hooke & Jeeves,\n",
    "\n",
    "*    Nelder - Mead,\n",
    "\n",
    "*    Steepest Descent,\n",
    "\n",
    "*    NL2SOL,\n",
    "\n",
    "*    Praxis,\n",
    "\n",
    "*    Truncated Newton,"
   ]
  },
  {
   "cell_type": "code",
   "execution_count": 46,
   "metadata": {},
   "outputs": [
    {
     "data": {
      "text/html": [
       "<div>\n",
       "<style scoped>\n",
       "    .dataframe tbody tr th:only-of-type {\n",
       "        vertical-align: middle;\n",
       "    }\n",
       "\n",
       "    .dataframe tbody tr th {\n",
       "        vertical-align: top;\n",
       "    }\n",
       "\n",
       "    .dataframe thead th {\n",
       "        text-align: right;\n",
       "    }\n",
       "</style>\n",
       "<table border=\"1\" class=\"dataframe\">\n",
       "  <thead>\n",
       "    <tr style=\"text-align: right;\">\n",
       "      <th></th>\n",
       "      <th>lower</th>\n",
       "      <th>upper</th>\n",
       "      <th>sol</th>\n",
       "      <th>affected</th>\n",
       "    </tr>\n",
       "    <tr>\n",
       "      <th>name</th>\n",
       "      <th></th>\n",
       "      <th></th>\n",
       "      <th></th>\n",
       "      <th></th>\n",
       "    </tr>\n",
       "  </thead>\n",
       "  <tbody>\n",
       "    <tr>\n",
       "      <th>(R1).k1</th>\n",
       "      <td>0.001</td>\n",
       "      <td>2</td>\n",
       "      <td>0.644231</td>\n",
       "      <td>[]</td>\n",
       "    </tr>\n",
       "    <tr>\n",
       "      <th>(R2).k1</th>\n",
       "      <td>0.001</td>\n",
       "      <td>2</td>\n",
       "      <td>0.567104</td>\n",
       "      <td>[]</td>\n",
       "    </tr>\n",
       "    <tr>\n",
       "      <th>(R3).k1</th>\n",
       "      <td>0.001</td>\n",
       "      <td>2</td>\n",
       "      <td>0.479191</td>\n",
       "      <td>[]</td>\n",
       "    </tr>\n",
       "    <tr>\n",
       "      <th>(R4).k1</th>\n",
       "      <td>0.001</td>\n",
       "      <td>2</td>\n",
       "      <td>0.890338</td>\n",
       "      <td>[]</td>\n",
       "    </tr>\n",
       "  </tbody>\n",
       "</table>\n",
       "</div>"
      ],
      "text/plain": [
       "         lower upper       sol affected\n",
       "name                                   \n",
       "(R1).k1  0.001     2  0.644231       []\n",
       "(R2).k1  0.001     2  0.567104       []\n",
       "(R3).k1  0.001     2  0.479191       []\n",
       "(R4).k1  0.001     2  0.890338       []"
      ]
     },
     "execution_count": 46,
     "metadata": {},
     "output_type": "execute_result"
    }
   ],
   "source": [
    "basico.run_parameter_estimation(method='Levenberg - Marquardt', update_model=True)"
   ]
  },
  {
   "cell_type": "code",
   "execution_count": 47,
   "metadata": {},
   "outputs": [
    {
     "data": {
      "text/html": [
       "<div>\n",
       "<style scoped>\n",
       "    .dataframe tbody tr th:only-of-type {\n",
       "        vertical-align: middle;\n",
       "    }\n",
       "\n",
       "    .dataframe tbody tr th {\n",
       "        vertical-align: top;\n",
       "    }\n",
       "\n",
       "    .dataframe thead th {\n",
       "        text-align: right;\n",
       "    }\n",
       "</style>\n",
       "<table border=\"1\" class=\"dataframe\">\n",
       "  <thead>\n",
       "    <tr style=\"text-align: right;\">\n",
       "      <th></th>\n",
       "      <th>lower</th>\n",
       "      <th>upper</th>\n",
       "      <th>sol</th>\n",
       "      <th>affected</th>\n",
       "    </tr>\n",
       "    <tr>\n",
       "      <th>name</th>\n",
       "      <th></th>\n",
       "      <th></th>\n",
       "      <th></th>\n",
       "      <th></th>\n",
       "    </tr>\n",
       "  </thead>\n",
       "  <tbody>\n",
       "    <tr>\n",
       "      <th>(R1).k1</th>\n",
       "      <td>0.001</td>\n",
       "      <td>2</td>\n",
       "      <td>1.092313</td>\n",
       "      <td>[]</td>\n",
       "    </tr>\n",
       "    <tr>\n",
       "      <th>(R2).k1</th>\n",
       "      <td>0.001</td>\n",
       "      <td>2</td>\n",
       "      <td>0.718337</td>\n",
       "      <td>[]</td>\n",
       "    </tr>\n",
       "    <tr>\n",
       "      <th>(R3).k1</th>\n",
       "      <td>0.001</td>\n",
       "      <td>2</td>\n",
       "      <td>0.836153</td>\n",
       "      <td>[]</td>\n",
       "    </tr>\n",
       "    <tr>\n",
       "      <th>(R4).k1</th>\n",
       "      <td>0.001</td>\n",
       "      <td>2</td>\n",
       "      <td>1.022308</td>\n",
       "      <td>[]</td>\n",
       "    </tr>\n",
       "  </tbody>\n",
       "</table>\n",
       "</div>"
      ],
      "text/plain": [
       "         lower upper       sol affected\n",
       "name                                   \n",
       "(R1).k1  0.001     2  1.092313       []\n",
       "(R2).k1  0.001     2  0.718337       []\n",
       "(R3).k1  0.001     2  0.836153       []\n",
       "(R4).k1  0.001     2  1.022308       []"
      ]
     },
     "execution_count": 47,
     "metadata": {},
     "output_type": "execute_result"
    }
   ],
   "source": [
    "basico.run_parameter_estimation(method='Evolution Strategy (SRES)', update_model=True)"
   ]
  },
  {
   "cell_type": "markdown",
   "metadata": {},
   "source": [
    "## 4. Evaluate results\n"
   ]
  },
  {
   "cell_type": "code",
   "execution_count": 48,
   "metadata": {},
   "outputs": [
    {
     "data": {
      "text/plain": [
       "{'obj': 18.17203498427607,\n",
       " 'rms': 0.2126124811130919,\n",
       " 'sd': 0.2136782145130326,\n",
       " 'f_evals': 23908,\n",
       " 'failed_evals_exception': 0,\n",
       " 'failed_evals_nan': 0,\n",
       " 'constraint_evals': 23901,\n",
       " 'failed_constraint_evals': 1492,\n",
       " 'cpu_time': 8.609375,\n",
       " 'data_points': 402,\n",
       " 'valid_data_points': 402,\n",
       " 'evals_per_sec': 0.0003601043583737661}"
      ]
     },
     "execution_count": 48,
     "metadata": {},
     "output_type": "execute_result"
    }
   ],
   "source": [
    "#Review fit statistics\n",
    "basico.get_fit_statistic(include_parameters=False)"
   ]
  },
  {
   "cell_type": "markdown",
   "metadata": {},
   "source": [
    "### Loading data from a file\n"
   ]
  },
  {
   "cell_type": "code",
   "execution_count": 49,
   "metadata": {},
   "outputs": [],
   "source": [
    "# load data from file\n",
    "exp_file = \"exp1.txt\"\n",
    "exp_data = pd.read_csv(exp_file, sep=\"\\t\") # Ensure correct separator\n"
   ]
  }
 ],
 "metadata": {
  "kernelspec": {
   "display_name": "Python 3",
   "language": "python",
   "name": "python3"
  },
  "language_info": {
   "codemirror_mode": {
    "name": "ipython",
    "version": 3
   },
   "file_extension": ".py",
   "mimetype": "text/x-python",
   "name": "python",
   "nbconvert_exporter": "python",
   "pygments_lexer": "ipython3",
   "version": "3.12.0"
  }
 },
 "nbformat": 4,
 "nbformat_minor": 2
}
