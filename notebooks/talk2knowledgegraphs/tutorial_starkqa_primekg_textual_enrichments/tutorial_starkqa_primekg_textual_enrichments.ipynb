{
 "cells": [
  {
   "cell_type": "markdown",
   "metadata": {},
   "source": [
    " # Textual Enrichment over StarkQA-PrimeKG using Ollama"
   ]
  },
  {
   "cell_type": "markdown",
   "metadata": {},
   "source": [
    "In this tutorial, we will explain an example to perform textual enrichment using Ollama LLMs for StarkQA-PrimeKG nodes.\n",
    "\n",
    "First of all, we need to import necessary libraries as follows:"
   ]
  },
  {
   "cell_type": "code",
   "execution_count": 1,
   "metadata": {},
   "outputs": [
    {
     "name": "stderr",
     "output_type": "stream",
     "text": [
      "/home/awmulyadi/Repositories/office/AIAgents4Pharma/venv/lib/python3.12/site-packages/tqdm/auto.py:21: TqdmWarning: IProgress not found. Please update jupyter and ipywidgets. See https://ipywidgets.readthedocs.io/en/stable/user_install.html\n",
      "  from .autonotebook import tqdm as notebook_tqdm\n",
      "/home/awmulyadi/Repositories/office/AIAgents4Pharma/venv/lib/python3.12/site-packages/pydantic/_internal/_fields.py:132: UserWarning: Field \"model_id\" in SysBioModel has conflict with protected namespace \"model_\".\n",
      "\n",
      "You may be able to resolve this warning by setting `model_config['protected_namespaces'] = ()`.\n",
      "  warnings.warn(\n",
      "/home/awmulyadi/Repositories/office/AIAgents4Pharma/venv/lib/python3.12/site-packages/pydantic/_internal/_fields.py:132: UserWarning: Field \"model_id\" in BasicoModel has conflict with protected namespace \"model_\".\n",
      "\n",
      "You may be able to resolve this warning by setting `model_config['protected_namespaces'] = ()`.\n",
      "  warnings.warn(\n",
      "/home/awmulyadi/Repositories/office/AIAgents4Pharma/venv/lib/python3.12/site-packages/pydantic/_internal/_fields.py:132: UserWarning: Field \"model_data\" in SimulateModelInput has conflict with protected namespace \"model_\".\n",
      "\n",
      "You may be able to resolve this warning by setting `model_config['protected_namespaces'] = ()`.\n",
      "  warnings.warn(\n"
     ]
    }
   ],
   "source": [
    "# Import necessary libraries\n",
    "import sys\n",
    "sys.path.append('../../..')\n",
    "from aiagents4pharma.talk2knowledgegraphs.datasets.primekg import PrimeKG\n",
    "from aiagents4pharma.talk2knowledgegraphs.datasets.starkqa_primekg import StarkQAPrimeKG\n",
    "from aiagents4pharma.talk2knowledgegraphs.utils.enrichments.ollama import EnrichmentWithOllama\n",
    "\n",
    "# Set the logging level for httpx to WARNING to suppress INFO messages\n",
    "import logging\n",
    "logging.getLogger(\"httpx\").setLevel(logging.WARNING)"
   ]
  },
  {
   "cell_type": "markdown",
   "metadata": {},
   "source": [
    "### Load PrimeKG"
   ]
  },
  {
   "cell_type": "markdown",
   "metadata": {},
   "source": [
    "To load PrimeKG dataset, we can utilize the `PrimeKG` class from the aiagents4pharma/talk2knowledgegraphs library.\n",
    "\n",
    "The `PrimeKG` needs to be initialized with the path to the PrimeKG dataset to be stored/loaded from the local directory."
   ]
  },
  {
   "cell_type": "code",
   "execution_count": 2,
   "metadata": {},
   "outputs": [
    {
     "name": "stdout",
     "output_type": "stream",
     "text": [
      "Loading nodes of PrimeKG dataset ...\n",
      "../../../../data/primekg/primekg_nodes.tsv.gz already exists. Loading the data from the local directory.\n",
      "Loading edges of PrimeKG dataset ...\n",
      "../../../../data/primekg/primekg_edges.tsv.gz already exists. Loading the data from the local directory.\n"
     ]
    }
   ],
   "source": [
    "# Define primekg data by providing a local directory where the data is stored\n",
    "primekg_data = PrimeKG(local_dir=\"../../../../data/primekg/\")\n",
    "\n",
    "# Invoke a method to load the data\n",
    "primekg_data.load_data()\n",
    "\n",
    "# Get primekg_nodes and primekg_edges\n",
    "primekg_nodes = primekg_data.get_nodes()\n",
    "primekg_edges = primekg_data.get_edges()"
   ]
  },
  {
   "cell_type": "markdown",
   "metadata": {},
   "source": [
    "#"
   ]
  },
  {
   "cell_type": "markdown",
   "metadata": {},
   "source": [
    "### Load StarkQA"
   ]
  },
  {
   "cell_type": "markdown",
   "metadata": {},
   "source": [
    "The `StarkQAPrimeKG` allows loading the data from the HuggingFace Hub if the data is not available locally.\n",
    "\n",
    "Otherwise, the data is loaded from the local directory as defined in the `local_dir`."
   ]
  },
  {
   "cell_type": "code",
   "execution_count": 3,
   "metadata": {},
   "outputs": [
    {
     "name": "stdout",
     "output_type": "stream",
     "text": [
      "Loading StarkQAPrimeKG dataset...\n",
      "../../../../data/starkqa_primekg/qa/prime/stark_qa/stark_qa.csv already exists. Loading the data from the local directory.\n",
      "Loading StarkQAPrimeKG embeddings...\n"
     ]
    }
   ],
   "source": [
    "# Define starkqa primekg data by providing a local directory where the data is stored\n",
    "starkqa_data = StarkQAPrimeKG(local_dir=\"../../../../data/starkqa_primekg/\")\n",
    "\n",
    "# Invoke a method to load the data\n",
    "starkqa_data.load_data()\n",
    "\n",
    "# Get the StarkQAPrimeKG data, which are the QA pairs, split indices, and the node information\n",
    "starkqa_df = starkqa_data.get_starkqa()\n",
    "starkqa_split_indices = starkqa_data.get_starkqa_split_indicies()\n",
    "starkqa_node_info = starkqa_data.get_starkqa_node_info()"
   ]
  },
  {
   "cell_type": "code",
   "execution_count": 4,
   "metadata": {},
   "outputs": [
    {
     "data": {
      "text/plain": [
       "{'id': 9796,\n",
       " 'type': 'gene/protein',\n",
       " 'name': 'PHYHIP',\n",
       " 'source': 'NCBI',\n",
       " 'details': {'query': 'PHYHIP',\n",
       "  '_id': '9796',\n",
       "  '_score': 17.934021,\n",
       "  'alias': ['DYRK1AP3', 'PAHX-AP', 'PAHXAP1'],\n",
       "  'genomic_pos': {'chr': '8',\n",
       "   'end': 22232101,\n",
       "   'ensemblgene': 'ENSG00000168490',\n",
       "   'start': 22219703,\n",
       "   'strand': -1},\n",
       "  'name': 'phytanoyl-CoA 2-hydroxylase interacting protein',\n",
       "  'summary': 'Enables protein tyrosine kinase binding activity. Involved in protein localization. Located in cytoplasm. [provided by Alliance of Genome Resources, Apr 2022]'}}"
      ]
     },
     "execution_count": 4,
     "metadata": {},
     "output_type": "execute_result"
    }
   ],
   "source": [
    "# We can obtain additional node information from StarkQAPrimeKG\n",
    "starkqa_node_info[0]"
   ]
  },
  {
   "cell_type": "markdown",
   "metadata": {},
   "source": [
    "Several nodes of gene/protein have summary information that can be use for further downstream analysis of knowledge graphs.\n",
    "\n",
    "However, there are also nodes that do not have this summary information."
   ]
  },
  {
   "cell_type": "markdown",
   "metadata": {},
   "source": [
    "### Textual Enrichment over PrimeKG Nodes using Ollama"
   ]
  },
  {
   "cell_type": "markdown",
   "metadata": {},
   "source": [
    "StarkQA provides additional node information for PrimeKG as a dictionary for each node. This allows us to further enrich the features of the knowledge graph nodes.\n",
    "\n",
    "However, there are several missing information over the nodes that were not provided by StarkQA. Thus, in this example, we will enrich the node information using Ollama.\n",
    "\n",
    "**As a disclaimer**, since we perform textual enrichment using LLMs, there are several considerations to keep in mind:\n",
    "- the risk of generating text that is not relevant to the input data\n",
    "- the risk of generating text that is not scientifically accurate or misleading due to hallucinations\n",
    "- the risk of generating biased text based on the training data of particular LLMs"
   ]
  },
  {
   "cell_type": "markdown",
   "metadata": {},
   "source": [
    "For a simple use case, we will firstly find a node IDs of gene/protein nodes that have no summary information as follows."
   ]
  },
  {
   "cell_type": "code",
   "execution_count": 6,
   "metadata": {},
   "outputs": [
    {
     "data": {
      "text/plain": [
       "{'id': 339229,\n",
       " 'type': 'gene/protein',\n",
       " 'name': 'OXLD1',\n",
       " 'source': 'NCBI',\n",
       " 'details': {'query': 'OXLD1',\n",
       "  '_id': '339229',\n",
       "  '_score': 17.692335,\n",
       "  'alias': 'C17orf90',\n",
       "  'genomic_pos': {'chr': '17',\n",
       "   'end': 81666635,\n",
       "   'ensemblgene': 'ENSG00000204237',\n",
       "   'start': 81665036,\n",
       "   'strand': -1},\n",
       "  'name': 'oxidoreductase like domain containing 1'}}"
      ]
     },
     "execution_count": 6,
     "metadata": {},
     "output_type": "execute_result"
    }
   ],
   "source": [
    "# Find the gene/protein nodes, which lack summary information\n",
    "node_wo_info_ids = [n_id for n_id in starkqa_node_info.keys()\n",
    "                    if starkqa_node_info[n_id]['type'] == 'gene/protein' and 'summary' not in starkqa_node_info[n_id]['details']]\n",
    "\n",
    "# Check an example of node without summary information\n",
    "starkqa_node_info[node_wo_info_ids[0]]"
   ]
  },
  {
   "cell_type": "markdown",
   "metadata": {},
   "source": [
    "Before enriching the data, we need to define the enrichment model along with its configuration.\n",
    "\n",
    "Note that, we can set further the prompt for the enrichment for more specific information."
   ]
  },
  {
   "cell_type": "code",
   "execution_count": 45,
   "metadata": {},
   "outputs": [],
   "source": [
    "# Config for Ollama enrichment\n",
    "ollama_config = {\n",
    "    \"model_name\": \"llama3.1\",\n",
    "    \"prompt_enrichment\": \"\"\"\n",
    "        You are a helpful expert in biomedical knowledge graph analysis.\n",
    "        Your role is to enrich the inputs (nodes or relations) using textual description.\n",
    "        A node is represented as string, e.g., \"ADAM17\" in the input list, while a relation is\n",
    "        represented as tuples, e.g., \"(NOD2, gene causation disease, Crohn disease)\".\n",
    "        DO NOT mistake one for the other. If the input is a list of nodes, treat each node as\n",
    "        a unique entity, and provide a description. If the input is a list of relations,\n",
    "        treat each tuple in the relation list as a unique relation between nodes,\n",
    "        and provide a description for each tuple.\n",
    "        All provided information about the node or relations should be concise\n",
    "        (a single sentence), informative, factual, and relevant in the biomedical domain.\n",
    "\n",
    "        ! IMPORTANT ! Make sure that the output is in valid format and can be parsed as\n",
    "        a list of dictionaries correctly and without any prepend information.\n",
    "        DO NOT forget to close the brackets properly.\n",
    "        KEEP the order consistent between the input and the output.\n",
    "        See <example> for reference.\n",
    "\n",
    "        <example>\n",
    "        Input: [\"ADAM17\", \"IL23R\"]\n",
    "        Output: [{{\"desc\" : \"ADAM17 is a metalloproteinase involved in the shedding of\n",
    "        membrane proteins and plays a role in inflammatory processes.\"}}, {{\"desc\":\n",
    "        \"IL23R is a receptor for interleukin-23, which is involved in inflammatory responses\n",
    "        and has been linked to inflammatory bowel disease.\"}}]\n",
    "        </example>\n",
    "\n",
    "        <example>\n",
    "        Input: [\"(NOD2, gene causation disease, Crohn disease)\", \"(IL23R,\n",
    "        gene causation disease, Inflammatory Bowel Disease)\"]\n",
    "        Output: [{{\"desc\" : \"NOD2 is a gene that contributes to immune responses and has\n",
    "        been implicated in Crohn's disease, particularly through genetic mutations linked to\n",
    "        inflammation.\"}}, {{\"desc\" : \"IL23R is a receptor gene that plays a role in\n",
    "        immune system regulation and has been associated with susceptibility to\n",
    "        Inflammatory Bowel Disease.\"}}]\n",
    "        </example>\n",
    "\n",
    "        Input: {input}\n",
    "    \"\"\",\n",
    "    \"temperature\": 0.0,\n",
    "    \"streaming\": False,\n",
    "}"
   ]
  },
  {
   "cell_type": "code",
   "execution_count": 46,
   "metadata": {},
   "outputs": [],
   "source": [
    "# Prepre enrichment model\n",
    "enr_model = EnrichmentWithOllama(\n",
    "    model_name=ollama_config[\"model_name\"],\n",
    "    prompt_enrichment=ollama_config[\"prompt_enrichment\"],\n",
    "    temperature=ollama_config[\"temperature\"],\n",
    "    streaming=ollama_config[\"streaming\"],\n",
    ")"
   ]
  },
  {
   "cell_type": "markdown",
   "metadata": {},
   "source": [
    "To perform textual enrichment, we can use the EnrichmentWithOllama class via its method:\n",
    "- `enrich_documents`: performs enrichment on a list of queries (documents)"
   ]
  },
  {
   "cell_type": "code",
   "execution_count": 48,
   "metadata": {},
   "outputs": [
    {
     "data": {
      "text/plain": [
       "(['OXLD1 (oxidoreductase like domain containing 1)',\n",
       "  'CRCT1 (cysteine rich C-terminal 1)',\n",
       "  'ATXN7L2 (ataxin 7 like 2)',\n",
       "  'TSTD2 (thiosulfate sulfurtransferase like domain containing 2)',\n",
       "  'GUCD1 (guanylyl cyclase domain containing 1)',\n",
       "  'PRR22 (proline rich 22)',\n",
       "  'PHB',\n",
       "  'TRBV2 (T cell receptor beta variable 2)',\n",
       "  'TEX37',\n",
       "  'MT-ND5 (NADH dehydrogenase subunit 5)'],\n",
       " [{'desc': 'OXLD1 is a protein that contains an oxidoreductase-like domain and plays a role in cellular processes.'},\n",
       "  {'desc': 'CRCT1 is a protein with a cysteine-rich C-terminal region, which may be involved in protein-protein interactions.'},\n",
       "  {'desc': 'ATXN7L2 is a protein that shares similarities with ataxin-7 and may play a role in maintaining genome stability.'},\n",
       "  {'desc': 'TSTD2 is a protein containing a thiosulfate sulfurtransferase-like domain, which may be involved in sulfur metabolism.'},\n",
       "  {'desc': 'GUCD1 is a protein containing a guanylyl cyclase domain, which plays a crucial role in signaling pathways.'},\n",
       "  {'desc': 'PRR22 is a protein rich in proline residues and may play a structural or regulatory role in cellular processes.'},\n",
       "  {'desc': 'PHB is a protein involved in various cellular functions, including transcriptional regulation and cell cycle control.'},\n",
       "  {'desc': 'TRBV2 is a variable region of the T-cell receptor beta chain, which plays a key role in immune system recognition and response.'},\n",
       "  {'desc': 'TEX37 is a protein with unknown function, but may be involved in specific cellular processes or interactions.'},\n",
       "  {'desc': 'MT-ND5 is a mitochondrial NADH dehydrogenase subunit that plays a critical role in the electron transport chain and energy production within cells.'}])"
      ]
     },
     "execution_count": 48,
     "metadata": {},
     "output_type": "execute_result"
    }
   ],
   "source": [
    "# To perform enrichment over all missing information of gene/protein nodes\n",
    "# As an example, we will enrich the first 10 nodes\n",
    "batch_ = node_wo_info_ids[:10]\n",
    "nodes_ = []\n",
    "enriched_nodes = []\n",
    "for n_id in batch_:\n",
    "    nodes_text_desc = f\"{starkqa_node_info[n_id]['name']}\"\n",
    "    if \"name\" in starkqa_node_info[n_id]['details']:\n",
    "        nodes_text_desc += f\" ({starkqa_node_info[n_id]['details']['name']})\"\n",
    "    nodes_.append(nodes_text_desc)\n",
    "    enriched_nodes = enr_model.enrich_documents(nodes_)\n",
    "nodes_, enriched_nodes"
   ]
  }
 ],
 "metadata": {
  "kernelspec": {
   "display_name": "venv",
   "language": "python",
   "name": "python3"
  },
  "language_info": {
   "codemirror_mode": {
    "name": "ipython",
    "version": 3
   },
   "file_extension": ".py",
   "mimetype": "text/x-python",
   "name": "python",
   "nbconvert_exporter": "python",
   "pygments_lexer": "ipython3",
   "version": "3.12.8"
  }
 },
 "nbformat": 4,
 "nbformat_minor": 2
}
