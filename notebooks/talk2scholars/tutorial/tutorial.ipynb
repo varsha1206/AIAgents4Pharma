{
    "cells": [
        {
            "cell_type": "markdown",
            "metadata": {},
            "source": [
                "### Talk2Scholars Tutorial\n",
                "\n",
                "This tutorial will walk you through the process of using Talk2Scholars for academic paper search and analysis. We'll cover installation, setup, and how to use each of the available tools."
            ]
        },
        {
            "cell_type": "markdown",
            "metadata": {},
            "source": [
                "#### Understanding the Workflow\n",
                "\n",
                "Our hierarchical agent system follows a specific workflow:\n",
                "\n",
                "1. Query Processing:\n",
                "   - User query is received by the main agent\n",
                "   - Supervisor agent determines the appropriate sub-agent\n",
                "   - S2 agent handles academic paper operations\n",
                "\n",
                "2. Result Management:\n",
                "   - Tools perform specific operations (search, recommendations)\n",
                "   - Results are stored in the state\n",
                "   - display_results tool acts as the interface for retrieving results\n",
                "\n",
                "3. Result Presentation:\n",
                "   - display_results ensures consistent formatting\n",
                "   - Handles error cases (no results found)\n",
                "   - Provides structured output for visualization\n",
                "\n",
                "The display_results tool is essential as it:\n",
                "- Provides a consistent interface for accessing results\n",
                "- Ensures proper error handling\n",
                "- Maintains data structure consistency\n",
                "- Makes the codebase more maintainable\n",
                "\n",
                "Example workflow diagram:\n",
                "User Query → Main Agent → S2 Agent → Tool Operations → display_results → Formatted Output"
            ]
        },
        {
            "cell_type": "markdown",
            "metadata": {},
            "source": [
                "#### Installation\n",
                "\n",
                "First, install the aiagents4pharma package using pip:"
            ]
        },
        {
            "cell_type": "code",
            "execution_count": 1,
            "metadata": {},
            "outputs": [],
            "source": [
                "# !pip install aiagents4pharma\n",
                "# This will install the package and all required dependencies"
            ]
        },
        {
            "cell_type": "markdown",
            "metadata": {},
            "source": [
                "#### Set up your API key\n",
                "\n",
                "Before using the tools, you need to set up your OpenAI API key. You can do this in two ways:"
            ]
        },
        {
            "cell_type": "markdown",
            "metadata": {},
            "source": [
                "##### Option 1: The recommended way to manage your API keys securely.\n",
                "\n",
                "1. Create a `.env` file in your project root.\n",
                "    Example project structure:\n",
                "    ```bash\n",
                "    AIAgents4Pharma/\n",
                "    ├── .env\n",
                "    ```\n",
                "\n",
                "2. Add the following line to your `.env` file (replace 'your_api_key_here' with your actual key):\n",
                "    ```bash\n",
                "    OPENAI_API_KEY=your_api_key_here\n",
                "    ```\n",
                "\n",
                "3. Use the code below to load your API key from the `.env` file. \n",
                "   If your `.env` file is not in the same directory, specify its location using a **dummy path**:"
            ]
        },
        {
            "cell_type": "code",
            "execution_count": 2,
            "metadata": {},
            "outputs": [],
            "source": [
                "# Import required libraries\n",
                "import os\n",
                "from dotenv import load_dotenv"
            ]
        },
        {
            "cell_type": "code",
            "execution_count": 3,
            "metadata": {},
            "outputs": [
                {
                    "name": "stdout",
                    "output_type": "stream",
                    "text": [
                        "Loaded API key: sk-pr... (truncated for security)\n"
                    ]
                }
            ],
            "source": [
                "# Specify the path to your .env file\n",
                "dotenv_path = \"./.env\"  # Replace this with the actual path to your .env file if it's not in the same directory\n",
                "load_dotenv(dotenv_path)\n",
                "\n",
                "# Fetch the API key from the environment variables\n",
                "api_key = os.getenv(\"OPENAI_API_KEY\")\n",
                "\n",
                "# Validate that the API key was loaded successfully\n",
                "if not api_key:\n",
                "    raise ValueError(f\"API key not found in {dotenv_path}! Ensure the .env file exists and contains the API key.\")\n",
                "\n",
                "# Print statement for debugging (optional, remove in production)\n",
                "print(f\"Loaded API key: {api_key[:5]}... (truncated for security)\")"
            ]
        },
        {
            "cell_type": "markdown",
            "metadata": {},
            "source": [
                "##### Option 2: Set API Key Directly (for testing only)\n",
                "\n",
                "If you are just testing the script and don’t want to create a `.env` file, \n",
                "you can set the API key directly in your script. \n",
                "Note: Avoid using this method in production as it exposes your key in plain text."
            ]
        },
        {
            "cell_type": "code",
            "execution_count": 4,
            "metadata": {},
            "outputs": [
                {
                    "name": "stdout",
                    "output_type": "stream",
                    "text": [
                        "API key is ready to use!\n"
                    ]
                }
            ],
            "source": [
                "# Set API key directly (for testing only)\n",
                "# os.environ[\"OPENAI_API_KEY\"] = \"your_api_key_here\"\n",
                "\n",
                "# Example of using the API key\n",
                "def example_functionality():\n",
                "    if not api_key:\n",
                "        raise ValueError(\"API key is not set! Ensure you loaded it correctly.\")\n",
                "    print(\"API key is ready to use!\")\n",
                "\n",
                "# Call the example function\n",
                "example_functionality()"
            ]
        },
        {
            "cell_type": "markdown",
            "metadata": {},
            "source": [
                "#### 1. Paper Search Tool\n",
                "\n",
                "Let's start by searching for academic papers. Note that we'll use display_results as our \n",
                "interface for viewing results, maintaining a consistent pattern throughout the workflow."
            ]
        },
        {
            "cell_type": "code",
            "execution_count": 5,
            "metadata": {},
            "outputs": [
                {
                    "name": "stderr",
                    "output_type": "stream",
                    "text": [
                        "/Users/anshkumar/Developer/code/git/AIAgents4Pharma/venv/lib/python3.12/site-packages/tqdm/auto.py:21: TqdmWarning: IProgress not found. Please update jupyter and ipywidgets. See https://ipywidgets.readthedocs.io/en/stable/user_install.html\n",
                        "  from .autonotebook import tqdm as notebook_tqdm\n"
                    ]
                },
                {
                    "name": "stdout",
                    "output_type": "stream",
                    "text": [
                        "Starting paper search...\n"
                    ]
                },
                {
                    "name": "stderr",
                    "output_type": "stream",
                    "text": [
                        "INFO:aiagents4pharma.talk2scholars.tools.s2.search:Received 0 papers\n",
                        "INFO:aiagents4pharma.talk2scholars.tools.s2.display_results:Displaying papers from the state\n",
                        "INFO:aiagents4pharma.talk2scholars.tools.s2.display_results:No papers found in state, indicating search is needed\n"
                    ]
                },
                {
                    "name": "stdout",
                    "output_type": "stream",
                    "text": [
                        "Search results retrieved successfully\n"
                    ]
                }
            ],
            "source": [
                "# Import the package\n",
                "import pandas as pd\n",
                "from aiagents4pharma.talk2scholars.tools.s2.search import search_tool\n",
                "from aiagents4pharma.talk2scholars.tools.s2.display_results import display_results\n",
                "\n",
                "# Define search parameters\n",
                "search_input = {\n",
                "    \"query\": \"machine learning in healthcare\",\n",
                "    \"limit\": 5,\n",
                "    \"year\": \"2023-\",\n",
                "    \"tool_call_id\": \"search_demo_1\"\n",
                "}\n",
                "\n",
                "try:\n",
                "    # Execute search\n",
                "    search_results = search_tool.invoke(input=search_input)\n",
                "    \n",
                "    # Use display_results as the interface to view results\n",
                "    state = {\"papers\": search_results.update.get(\"papers\", {})}\n",
                "    results = display_results.invoke({\"state\": state})\n",
                "    print(\"Search results retrieved successfully\")\n",
                "except Exception as e:\n",
                "    print(f\"Error during search: {e}\")"
            ]
        },
        {
            "cell_type": "markdown",
            "metadata": {},
            "source": [
                "#### 2. Display Results Tool\n",
                "\n",
                "The display_results tool is a crucial interface component in our workflow. Unlike directly \n",
                "accessing search or recommendation results, this tool provides:\n",
                "\n",
                "1. Standardized Interface:\n",
                "   - Consistent format for all paper data\n",
                "   - Proper error handling\n",
                "   - State validation\n",
                "\n",
                "2. Result Management:\n",
                "   - Handles both search results and recommendations\n",
                "   - Validates paper data structure\n",
                "   - Manages empty result cases\n",
                "\n",
                "Here's how to use the display_results tool:"
            ]
        },
        {
            "cell_type": "code",
            "execution_count": null,
            "metadata": {},
            "outputs": [],
            "source": [
                "from aiagents4pharma.talk2scholars.tools.s2.display_results import display_results\n",
                "\n",
                "# Example 1: Displaying search results\n",
                "def display_search_results():\n",
                "    try:\n",
                "        # First get some search results\n",
                "        search_input = {\n",
                "            \"query\": \"machine learning in healthcare\",\n",
                "            \"limit\": 5,\n",
                "            \"year\": \"2023-\",\n",
                "            \"tool_call_id\": \"search_demo_1\"\n",
                "        }\n",
                "        search_results = search_tool.invoke(input=search_input)\n",
                "        \n",
                "        # Use display_results as the interface\n",
                "        state = {\"papers\": search_results.update.get(\"papers\", {})}\n",
                "        results = display_results.invoke({\"state\": state})\n",
                "        print(\"Results retrieved successfully\")\n",
                "        return results\n",
                "    except Exception as e:\n",
                "        print(f\"Error displaying results: {e}\")\n",
                "        return None\n",
                "\n",
                "# Example 2: Handling empty results\n",
                "def handle_empty_results():\n",
                "    try:\n",
                "        # Create an empty state\n",
                "        empty_state = {\"papers\": {}}\n",
                "        results = display_results.invoke({\"state\": empty_state})\n",
                "        print(\"Empty state handled successfully\")\n",
                "    except Exception as e:\n",
                "        # This should raise NoPapersFoundError\n",
                "        print(f\"Expected error for empty results: {e}\")\n",
                "\n",
                "# Example 3: Error handling with invalid state\n",
                "def handle_invalid_state():\n",
                "    try:\n",
                "        # Try to display results with invalid state\n",
                "        invalid_state = {\"invalid_key\": {}}\n",
                "        results = display_results.invoke({\"state\": invalid_state})\n",
                "    except Exception as e:\n",
                "        print(f\"Expected error for invalid state: {e}\")\n",
                "\n",
                "\"\"\"\n",
                "The display_results tool is designed to be used after any operation that retrieves papers:\n",
                "- After paper searches\n",
                "- After getting recommendations\n",
                "- After main agent operations\n",
                "\n",
                "Always use display_results instead of accessing raw data directly. This ensures:\n",
                "1. Consistent error handling\n",
                "2. Proper state validation\n",
                "3. Standardized result format\n",
                "\"\"\""
            ]
        },
        {
            "cell_type": "markdown",
            "metadata": {},
            "source": [
                "#### 3. Single Paper Recommendations\n",
                "\n",
                "Get recommendations based on a specific paper, using display_results as our interface."
            ]
        },
        {
            "cell_type": "code",
            "execution_count": 7,
            "metadata": {},
            "outputs": [],
            "source": [
                "from aiagents4pharma.talk2scholars.tools.s2.single_paper_rec import get_single_paper_recommendations\n",
                "\n",
                "# Get first paper ID from previous search results\n",
                "paper_id = next(iter(search_results.update.get(\"papers\", {})), None)\n",
                "\n",
                "if paper_id:\n",
                "    try:\n",
                "        # Get recommendations\n",
                "        rec_input = {\n",
                "            \"paper_id\": paper_id,\n",
                "            \"limit\": 3,\n",
                "            \"year\": \"2022-\",\n",
                "            \"tool_call_id\": \"rec_demo_1\"\n",
                "        }\n",
                "        recommendations = get_single_paper_recommendations.invoke(input=rec_input)\n",
                "        \n",
                "        # Use display_results to view recommendations\n",
                "        state = {\"papers\": recommendations.update.get(\"papers\", {})}\n",
                "        results = display_results.invoke({\"state\": state})\n",
                "        print(\"Recommendations retrieved successfully\")\n",
                "    except Exception as e:\n",
                "        print(f\"Error getting recommendations: {e}\")"
            ]
        },
        {
            "cell_type": "markdown",
            "metadata": {},
            "source": [
                "#### 4. Multi-Paper Recommendations\n",
                "\n",
                "Get recommendations based on multiple papers, maintaining our consistent interface pattern."
            ]
        },
        {
            "cell_type": "code",
            "execution_count": 8,
            "metadata": {},
            "outputs": [],
            "source": [
                "from aiagents4pharma.talk2scholars.tools.s2.multi_paper_rec import get_multi_paper_recommendations\n",
                "\n",
                "paper_ids = list(search_results.update.get(\"papers\", {}).keys())[:2]\n",
                "\n",
                "if paper_ids:\n",
                "    try:\n",
                "        # Get multi-paper recommendations\n",
                "        multi_rec_input = {\n",
                "            \"paper_ids\": paper_ids,\n",
                "            \"limit\": 3,\n",
                "            \"year\": \"2022-\",\n",
                "            \"tool_call_id\": \"multi_rec_demo_1\"\n",
                "        }\n",
                "        multi_recommendations = get_multi_paper_recommendations.invoke(input=multi_rec_input)\n",
                "        \n",
                "        # Use display_results as the interface\n",
                "        state = {\"papers\": multi_recommendations.update.get(\"papers\", {})}\n",
                "        results = display_results.invoke({\"state\": state})\n",
                "        print(\"Multi-paper recommendations retrieved successfully\")\n",
                "    except Exception as e:\n",
                "        print(f\"Error getting multi-paper recommendations: {e}\")"
            ]
        },
        {
            "cell_type": "markdown",
            "metadata": {},
            "source": [
                "#### Using the Main Agent\n",
                "\n",
                "The main agent provides an integrated experience that coordinates between different tools. \n",
                "It uses a hierarchical system where:\n",
                "1. The supervisor agent routes queries appropriately\n",
                "2. The S2 agent handles academic paper operations\n",
                "3. The display_results tool manages result presentation\n",
                "\n",
                "This structure ensures a consistent and reliable user experience."
            ]
        },
        {
            "cell_type": "code",
            "execution_count": 9,
            "metadata": {},
            "outputs": [
                {
                    "name": "stderr",
                    "output_type": "stream",
                    "text": [
                        "INFO:aiagents4pharma.talk2scholars.agents.main_agent:Hydra configuration loaded with values: {'_target_': 'agents.main_agent.get_app', 'openai_api_key': '${oc.env:OPENAI_API_KEY}', 'openai_llms': ['gpt-4o-mini', 'gpt-4-turbo', 'gpt-3.5-turbo'], 'temperature': 0, 'main_agent': 'You are an intelligent research assistant coordinating academic paper discovery and analysis.\\nAVAILABLE TOOLS AND ROUTING: 1. semantic_scholar_agent:\\n   Access to tools:\\n   - search_tool: For paper discovery\\n   - display_results: For showing paper results\\n   - get_single_paper_recommendations: For single paper recommendations\\n   - get_multi_paper_recommendations: For multi-paper recommendations\\n   → ROUTE TO THIS AGENT FOR: Any query about academic papers, research, or articles\\n\\nROUTING LOGIC: 1. For ANY query mentioning:\\n   - Papers, articles, research, publications\\n   - Search, find, show, display, get\\n   → Route to semantic_scholar_agent\\n\\n2. Error Handling:\\n   - If semantic_scholar_agent reports no papers in state\\n   → Keep routing to semantic_scholar_agent to trigger search\\n\\nCORE RESPONSIBILITIES: - Route ALL queries to the semantic_scholar_agent - Maintain proper state management - Ensure research queries are handled appropriately\\nSTATE MANAGEMENT: - Papers are stored in state[\"papers\"] - Multiple paper results in state[\"multi_papers\"] - Both are dictionary structures\\nROUTING BEHAVIOR: - ALL queries should be routed to semantic_scholar_agent - Let semantic_scholar_agent handle search, display, and recommendations - Maintain state consistency between operations\\nRemember: Your role is to ensure all queries are properly routed to semantic_scholar_agent for processing.\\nPRINCIPLES: - Maintain routing to semantic_scholar_agent for any research-related query\\n'}\n",
                        "INFO:aiagents4pharma.talk2scholars.agents.main_agent:Using OpenAI model gpt-4o-mini with temperature 0\n",
                        "INFO:aiagents4pharma.talk2scholars.agents.main_agent:Load Hydra configuration for Talk2Scholars main agent.\n",
                        "INFO:aiagents4pharma.talk2scholars.agents.main_agent:Hydra configuration loaded with values: {'_target_': 'agents.main_agent.get_app', 'openai_api_key': '${oc.env:OPENAI_API_KEY}', 'openai_llms': ['gpt-4o-mini', 'gpt-4-turbo', 'gpt-3.5-turbo'], 'temperature': 0, 'main_agent': 'You are an intelligent research assistant coordinating academic paper discovery and analysis.\\nAVAILABLE TOOLS AND ROUTING: 1. semantic_scholar_agent:\\n   Access to tools:\\n   - search_tool: For paper discovery\\n   - display_results: For showing paper results\\n   - get_single_paper_recommendations: For single paper recommendations\\n   - get_multi_paper_recommendations: For multi-paper recommendations\\n   → ROUTE TO THIS AGENT FOR: Any query about academic papers, research, or articles\\n\\nROUTING LOGIC: 1. For ANY query mentioning:\\n   - Papers, articles, research, publications\\n   - Search, find, show, display, get\\n   → Route to semantic_scholar_agent\\n\\n2. Error Handling:\\n   - If semantic_scholar_agent reports no papers in state\\n   → Keep routing to semantic_scholar_agent to trigger search\\n\\nCORE RESPONSIBILITIES: - Route ALL queries to the semantic_scholar_agent - Maintain proper state management - Ensure research queries are handled appropriately\\nSTATE MANAGEMENT: - Papers are stored in state[\"papers\"] - Multiple paper results in state[\"multi_papers\"] - Both are dictionary structures\\nROUTING BEHAVIOR: - ALL queries should be routed to semantic_scholar_agent - Let semantic_scholar_agent handle search, display, and recommendations - Maintain state consistency between operations\\nRemember: Your role is to ensure all queries are properly routed to semantic_scholar_agent for processing.\\nPRINCIPLES: - Maintain routing to semantic_scholar_agent for any research-related query\\n'}\n",
                        "INFO:aiagents4pharma.talk2scholars.agents.main_agent:Main agent workflow compiled\n",
                        "INFO:aiagents4pharma.talk2scholars.agents.main_agent:Supervisor node called - Messages count: 1, Current Agent: None\n",
                        "INFO:aiagents4pharma.talk2scholars.state.state_talk2scholars:Updating existing state {} with the state dict: {}\n",
                        "INFO:aiagents4pharma.talk2scholars.state.state_talk2scholars:Updating existing state {} with the state dict: {}\n",
                        "INFO:httpx:HTTP Request: POST https://api.openai.com/v1/chat/completions \"HTTP/1.1 200 OK\"\n",
                        "INFO:aiagents4pharma.talk2scholars.state.state_talk2scholars:Updating existing state {} with the state dict: {}\n",
                        "INFO:aiagents4pharma.talk2scholars.state.state_talk2scholars:Updating existing state {} with the state dict: {}\n",
                        "INFO:aiagents4pharma.talk2scholars.agents.main_agent:Calling S2 agent with state: {'messages': [HumanMessage(content='search for recent papers about machine learning in healthcare', additional_kwargs={}, response_metadata={}, id='e6b21869-a28a-48ec-85ac-b6e5e7005b26')], 'papers': {}, 'multi_papers': {}, 'is_last_step': False, 'remaining_steps': 23}\n",
                        "INFO:aiagents4pharma.talk2scholars.agents.s2_agent:Load Hydra configuration for Talk2Scholars S2 agent.\n",
                        "INFO:aiagents4pharma.talk2scholars.agents.s2_agent:Using OpenAI model gpt-4o-mini\n",
                        "INFO:aiagents4pharma.talk2scholars.agents.s2_agent:Compiled the graph\n",
                        "INFO:aiagents4pharma.talk2scholars.state.state_talk2scholars:Updating existing state {} with the state dict: {}\n",
                        "INFO:aiagents4pharma.talk2scholars.state.state_talk2scholars:Updating existing state {} with the state dict: {}\n",
                        "INFO:aiagents4pharma.talk2scholars.agents.s2_agent:Creating Agent_S2 node with thread_id tutorial_demo\n",
                        "INFO:aiagents4pharma.talk2scholars.state.state_talk2scholars:Updating existing state {} with the state dict: {}\n",
                        "INFO:aiagents4pharma.talk2scholars.state.state_talk2scholars:Updating existing state {} with the state dict: {}\n"
                    ]
                },
                {
                    "name": "stdout",
                    "output_type": "stream",
                    "text": [
                        "decision Routing your request to the semantic_scholar_agent for paper discovery on recent papers about machine learning in healthcare.\n"
                    ]
                },
                {
                    "name": "stderr",
                    "output_type": "stream",
                    "text": [
                        "INFO:httpx:HTTP Request: POST https://api.openai.com/v1/chat/completions \"HTTP/1.1 200 OK\"\n"
                    ]
                },
                {
                    "name": "stdout",
                    "output_type": "stream",
                    "text": [
                        "Starting paper search...\n"
                    ]
                },
                {
                    "name": "stderr",
                    "output_type": "stream",
                    "text": [
                        "INFO:aiagents4pharma.talk2scholars.tools.s2.search:Received 0 papers\n",
                        "INFO:aiagents4pharma.talk2scholars.state.state_talk2scholars:Updating existing state {} with the state dict: {}\n",
                        "INFO:httpx:HTTP Request: POST https://api.openai.com/v1/chat/completions \"HTTP/1.1 200 OK\"\n",
                        "INFO:aiagents4pharma.talk2scholars.tools.s2.display_results:Displaying papers from the state\n",
                        "INFO:aiagents4pharma.talk2scholars.tools.s2.display_results:No papers found in state, indicating search is needed\n",
                        "INFO:httpx:HTTP Request: POST https://api.openai.com/v1/chat/completions \"HTTP/1.1 200 OK\"\n"
                    ]
                },
                {
                    "name": "stdout",
                    "output_type": "stream",
                    "text": [
                        "Starting paper search...\n"
                    ]
                },
                {
                    "name": "stderr",
                    "output_type": "stream",
                    "text": [
                        "INFO:aiagents4pharma.talk2scholars.tools.s2.search:Received 5 papers\n",
                        "INFO:aiagents4pharma.talk2scholars.state.state_talk2scholars:Updating existing state {} with the state dict: {'ac2cffc4b9f96bae24809d738777ae897094ae33': {'Title': 'A Comprehensive Review on Machine Learning in Healthcare Industry: Classification, Restrictions, Opportunities and Challenges', 'Abstract': 'Recently, various sophisticated methods, including machine learning and artificial intelligence, have been employed to examine health-related data. Medical professionals are acquiring enhanced diagnostic and treatment abilities by utilizing machine learning applications in the healthcare domain. Medical data have been used by many researchers to detect diseases and identify patterns. In the current literature, there are very few studies that address machine learning algorithms to improve healthcare data accuracy and efficiency. We examined the effectiveness of machine learning algorithms in improving time series healthcare metrics for heart rate data transmission (accuracy and efficiency). In this paper, we reviewed several machine learning algorithms in healthcare applications. After a comprehensive overview and investigation of supervised and unsupervised machine learning algorithms, we also demonstrated time series tasks based on past values (along with reviewing their feasibility for both small and large datasets).', 'Year': 2023, 'Citation Count': 105, 'URL': 'https://www.semanticscholar.org/paper/ac2cffc4b9f96bae24809d738777ae897094ae33'}, '5289f24cc7b7d3551d82c336b6dbab5e3e5a5944': {'Title': 'Multiple stakeholders drive diverse interpretability requirements for machine learning in healthcare', 'Abstract': None, 'Year': 2023, 'Citation Count': 22, 'URL': 'https://www.semanticscholar.org/paper/5289f24cc7b7d3551d82c336b6dbab5e3e5a5944'}, '0dbd01fa18af261c2286c6b593633e924e7c9847': {'Title': 'Combining simulation models and machine learning in healthcare management: strategies and applications', 'Abstract': 'Simulation models and artificial intelligence (AI) are largely used to address healthcare and biomedical engineering problems. Both approaches showed promising results in the analysis and optimization of healthcare processes. Therefore, the combination of simulation models and AI could provide a strategy to further boost the quality of health services. In this work, a systematic review of studies applying a hybrid simulation models and AI approach to address healthcare management challenges was carried out. Scopus, Web of Science, and PubMed databases were screened by independent reviewers. The main strategies to combine simulation and AI as well as the major healthcare application scenarios were identified and discussed. Moreover, tools and algorithms to implement the proposed approaches were described. Results showed that machine learning appears to be the most employed AI strategy in combination with simulation models, which mainly rely on agent-based and discrete-event systems. The scarcity and heterogeneity of the included studies suggested that a standardized framework to implement hybrid machine learning-simulation approaches in healthcare management is yet to be defined. Future efforts should aim to use these approaches to design novel intelligent in-silico models of healthcare processes and to provide effective translation to the clinics.', 'Year': 2024, 'Citation Count': 4, 'URL': 'https://www.semanticscholar.org/paper/0dbd01fa18af261c2286c6b593633e924e7c9847'}, '1923fe26a65930b85455f83f7a20e48a8e1a78fc': {'Title': 'Quantum Machine Learning in Healthcare: Developments and Challenges', 'Abstract': 'Machine learning is playing a very significant role to process voluminous data and its classification in a variety of domains. Due to better performance and rapid development in the last decade, quantum computing is also benefiting many areas. With the amalgamation of these two technologies, a new domain for processing big data more efficiently and accurately has evolved, known as quantum machine learning. Healthcare is one of the prominent domains where a huge volume of data is produced from several processes. Efficient processing of healthcare data and records is very important to facilitate many biological and medical processes to provide better treatments to patients. The fundamental aim of this paper is to present a state-of-the-art review of quantum computing concepts, quantum machine learning framework, and the various applications of quantum machine learning in the domain of healthcare. The comparison of QML healthcare models with ML-based healthcare applications is discussed in this work. The authors also present the various challenges faced in the deployment of quantum machine learning algorithms in the domain of healthcare and possible future research directions.', 'Year': 2023, 'Citation Count': 24, 'URL': 'https://www.semanticscholar.org/paper/1923fe26a65930b85455f83f7a20e48a8e1a78fc'}, '06376d29527a5e1941d8ad7510cc4e6783909af3': {'Title': 'Significance of machine learning in healthcare: Features, pillars and applications', 'Abstract': None, 'Year': 2022, 'Citation Count': 282, 'URL': 'https://www.semanticscholar.org/paper/06376d29527a5e1941d8ad7510cc4e6783909af3'}}\n",
                        "INFO:httpx:HTTP Request: POST https://api.openai.com/v1/chat/completions \"HTTP/1.1 200 OK\"\n",
                        "INFO:aiagents4pharma.talk2scholars.tools.s2.display_results:Displaying papers from the state\n",
                        "INFO:httpx:HTTP Request: POST https://api.openai.com/v1/chat/completions \"HTTP/1.1 200 OK\"\n",
                        "INFO:aiagents4pharma.talk2scholars.state.state_talk2scholars:Updating existing state {} with the state dict: {'ac2cffc4b9f96bae24809d738777ae897094ae33': {'Title': 'A Comprehensive Review on Machine Learning in Healthcare Industry: Classification, Restrictions, Opportunities and Challenges', 'Abstract': 'Recently, various sophisticated methods, including machine learning and artificial intelligence, have been employed to examine health-related data. Medical professionals are acquiring enhanced diagnostic and treatment abilities by utilizing machine learning applications in the healthcare domain. Medical data have been used by many researchers to detect diseases and identify patterns. In the current literature, there are very few studies that address machine learning algorithms to improve healthcare data accuracy and efficiency. We examined the effectiveness of machine learning algorithms in improving time series healthcare metrics for heart rate data transmission (accuracy and efficiency). In this paper, we reviewed several machine learning algorithms in healthcare applications. After a comprehensive overview and investigation of supervised and unsupervised machine learning algorithms, we also demonstrated time series tasks based on past values (along with reviewing their feasibility for both small and large datasets).', 'Year': 2023, 'Citation Count': 105, 'URL': 'https://www.semanticscholar.org/paper/ac2cffc4b9f96bae24809d738777ae897094ae33'}, '5289f24cc7b7d3551d82c336b6dbab5e3e5a5944': {'Title': 'Multiple stakeholders drive diverse interpretability requirements for machine learning in healthcare', 'Abstract': None, 'Year': 2023, 'Citation Count': 22, 'URL': 'https://www.semanticscholar.org/paper/5289f24cc7b7d3551d82c336b6dbab5e3e5a5944'}, '0dbd01fa18af261c2286c6b593633e924e7c9847': {'Title': 'Combining simulation models and machine learning in healthcare management: strategies and applications', 'Abstract': 'Simulation models and artificial intelligence (AI) are largely used to address healthcare and biomedical engineering problems. Both approaches showed promising results in the analysis and optimization of healthcare processes. Therefore, the combination of simulation models and AI could provide a strategy to further boost the quality of health services. In this work, a systematic review of studies applying a hybrid simulation models and AI approach to address healthcare management challenges was carried out. Scopus, Web of Science, and PubMed databases were screened by independent reviewers. The main strategies to combine simulation and AI as well as the major healthcare application scenarios were identified and discussed. Moreover, tools and algorithms to implement the proposed approaches were described. Results showed that machine learning appears to be the most employed AI strategy in combination with simulation models, which mainly rely on agent-based and discrete-event systems. The scarcity and heterogeneity of the included studies suggested that a standardized framework to implement hybrid machine learning-simulation approaches in healthcare management is yet to be defined. Future efforts should aim to use these approaches to design novel intelligent in-silico models of healthcare processes and to provide effective translation to the clinics.', 'Year': 2024, 'Citation Count': 4, 'URL': 'https://www.semanticscholar.org/paper/0dbd01fa18af261c2286c6b593633e924e7c9847'}, '1923fe26a65930b85455f83f7a20e48a8e1a78fc': {'Title': 'Quantum Machine Learning in Healthcare: Developments and Challenges', 'Abstract': 'Machine learning is playing a very significant role to process voluminous data and its classification in a variety of domains. Due to better performance and rapid development in the last decade, quantum computing is also benefiting many areas. With the amalgamation of these two technologies, a new domain for processing big data more efficiently and accurately has evolved, known as quantum machine learning. Healthcare is one of the prominent domains where a huge volume of data is produced from several processes. Efficient processing of healthcare data and records is very important to facilitate many biological and medical processes to provide better treatments to patients. The fundamental aim of this paper is to present a state-of-the-art review of quantum computing concepts, quantum machine learning framework, and the various applications of quantum machine learning in the domain of healthcare. The comparison of QML healthcare models with ML-based healthcare applications is discussed in this work. The authors also present the various challenges faced in the deployment of quantum machine learning algorithms in the domain of healthcare and possible future research directions.', 'Year': 2023, 'Citation Count': 24, 'URL': 'https://www.semanticscholar.org/paper/1923fe26a65930b85455f83f7a20e48a8e1a78fc'}, '06376d29527a5e1941d8ad7510cc4e6783909af3': {'Title': 'Significance of machine learning in healthcare: Features, pillars and applications', 'Abstract': None, 'Year': 2022, 'Citation Count': 282, 'URL': 'https://www.semanticscholar.org/paper/06376d29527a5e1941d8ad7510cc4e6783909af3'}}\n",
                        "INFO:aiagents4pharma.talk2scholars.state.state_talk2scholars:Updating existing state {} with the state dict: {}\n",
                        "INFO:aiagents4pharma.talk2scholars.agents.main_agent:S2 agent completed with response: {'messages': [HumanMessage(content='search for recent papers about machine learning in healthcare', additional_kwargs={}, response_metadata={}, id='e6b21869-a28a-48ec-85ac-b6e5e7005b26'), AIMessage(content='', additional_kwargs={'tool_calls': [{'id': 'call_owR2HwuwRfl152WaUMIURDV6', 'function': {'arguments': '{\"query\":\"machine learning in healthcare\",\"limit\":5}', 'name': 'search_tool'}, 'type': 'function'}], 'refusal': None}, response_metadata={'token_usage': {'completion_tokens': 22, 'prompt_tokens': 1221, 'total_tokens': 1243, 'completion_tokens_details': {'accepted_prediction_tokens': 0, 'audio_tokens': 0, 'reasoning_tokens': 0, 'rejected_prediction_tokens': 0}, 'prompt_tokens_details': {'audio_tokens': 0, 'cached_tokens': 1152}}, 'model_name': 'gpt-4o-mini-2024-07-18', 'system_fingerprint': 'fp_bd83329f63', 'finish_reason': 'tool_calls', 'logprobs': None}, id='run-0ffa9334-e41b-478a-ab81-9a78e806ee42-0', tool_calls=[{'name': 'search_tool', 'args': {'query': 'machine learning in healthcare', 'limit': 5}, 'id': 'call_owR2HwuwRfl152WaUMIURDV6', 'type': 'tool_call'}], usage_metadata={'input_tokens': 1221, 'output_tokens': 22, 'total_tokens': 1243, 'input_token_details': {'audio': 0, 'cache_read': 1152}, 'output_token_details': {'audio': 0, 'reasoning': 0}}), ToolMessage(content='Search Successful: {}', name='search_tool', id='b068c932-cc3e-4178-a37c-7c3c0f4670a9', tool_call_id='call_owR2HwuwRfl152WaUMIURDV6'), AIMessage(content='', additional_kwargs={'tool_calls': [{'id': 'call_hCtdbEvv2BnWkJpHejbejQP8', 'function': {'arguments': '{}', 'name': 'display_results'}, 'type': 'function'}], 'refusal': None}, response_metadata={'token_usage': {'completion_tokens': 11, 'prompt_tokens': 1254, 'total_tokens': 1265, 'completion_tokens_details': {'accepted_prediction_tokens': 0, 'audio_tokens': 0, 'reasoning_tokens': 0, 'rejected_prediction_tokens': 0}, 'prompt_tokens_details': {'audio_tokens': 0, 'cached_tokens': 1152}}, 'model_name': 'gpt-4o-mini-2024-07-18', 'system_fingerprint': 'fp_bd83329f63', 'finish_reason': 'tool_calls', 'logprobs': None}, id='run-9e70f389-b2a5-44e0-8e84-9e1968c0f409-0', tool_calls=[{'name': 'display_results', 'args': {}, 'id': 'call_hCtdbEvv2BnWkJpHejbejQP8', 'type': 'tool_call'}], usage_metadata={'input_tokens': 1254, 'output_tokens': 11, 'total_tokens': 1265, 'input_token_details': {'audio': 0, 'cache_read': 1152}, 'output_token_details': {'audio': 0, 'reasoning': 0}}), ToolMessage(content='No papers found. A search needs to be performed first.', name='display_results', id='90d0a8a5-d23e-48de-9f07-a4440f56ad10', tool_call_id='call_hCtdbEvv2BnWkJpHejbejQP8'), AIMessage(content='', additional_kwargs={'tool_calls': [{'id': 'call_mwPd32ci5RmnlVyDkzMiaZ3T', 'function': {'arguments': '{\"query\":\"machine learning in healthcare\",\"limit\":5}', 'name': 'search_tool'}, 'type': 'function'}], 'refusal': None}, response_metadata={'token_usage': {'completion_tokens': 22, 'prompt_tokens': 1284, 'total_tokens': 1306, 'completion_tokens_details': {'accepted_prediction_tokens': 0, 'audio_tokens': 0, 'reasoning_tokens': 0, 'rejected_prediction_tokens': 0}, 'prompt_tokens_details': {'audio_tokens': 0, 'cached_tokens': 1152}}, 'model_name': 'gpt-4o-mini-2024-07-18', 'system_fingerprint': 'fp_bd83329f63', 'finish_reason': 'tool_calls', 'logprobs': None}, id='run-6e63944f-7d5c-48b5-9ec2-53be6012bdc2-0', tool_calls=[{'name': 'search_tool', 'args': {'query': 'machine learning in healthcare', 'limit': 5}, 'id': 'call_mwPd32ci5RmnlVyDkzMiaZ3T', 'type': 'tool_call'}], usage_metadata={'input_tokens': 1284, 'output_tokens': 22, 'total_tokens': 1306, 'input_token_details': {'audio': 0, 'cache_read': 1152}, 'output_token_details': {'audio': 0, 'reasoning': 0}}), ToolMessage(content=\"Search Successful: {'ac2cffc4b9f96bae24809d738777ae897094ae33': {'Title': 'A Comprehensive Review on Machine Learning in Healthcare Industry: Classification, Restrictions, Opportunities and Challenges', 'Abstract': 'Recently, various sophisticated methods, including machine learning and artificial intelligence, have been employed to examine health-related data. Medical professionals are acquiring enhanced diagnostic and treatment abilities by utilizing machine learning applications in the healthcare domain. Medical data have been used by many researchers to detect diseases and identify patterns. In the current literature, there are very few studies that address machine learning algorithms to improve healthcare data accuracy and efficiency. We examined the effectiveness of machine learning algorithms in improving time series healthcare metrics for heart rate data transmission (accuracy and efficiency). In this paper, we reviewed several machine learning algorithms in healthcare applications. After a comprehensive overview and investigation of supervised and unsupervised machine learning algorithms, we also demonstrated time series tasks based on past values (along with reviewing their feasibility for both small and large datasets).', 'Year': 2023, 'Citation Count': 105, 'URL': 'https://www.semanticscholar.org/paper/ac2cffc4b9f96bae24809d738777ae897094ae33'}, '5289f24cc7b7d3551d82c336b6dbab5e3e5a5944': {'Title': 'Multiple stakeholders drive diverse interpretability requirements for machine learning in healthcare', 'Abstract': None, 'Year': 2023, 'Citation Count': 22, 'URL': 'https://www.semanticscholar.org/paper/5289f24cc7b7d3551d82c336b6dbab5e3e5a5944'}, '0dbd01fa18af261c2286c6b593633e924e7c9847': {'Title': 'Combining simulation models and machine learning in healthcare management: strategies and applications', 'Abstract': 'Simulation models and artificial intelligence (AI) are largely used to address healthcare and biomedical engineering problems. Both approaches showed promising results in the analysis and optimization of healthcare processes. Therefore, the combination of simulation models and AI could provide a strategy to further boost the quality of health services. In this work, a systematic review of studies applying a hybrid simulation models and AI approach to address healthcare management challenges was carried out. Scopus, Web of Science, and PubMed databases were screened by independent reviewers. The main strategies to combine simulation and AI as well as the major healthcare application scenarios were identified and discussed. Moreover, tools and algorithms to implement the proposed approaches were described. Results showed that machine learning appears to be the most employed AI strategy in combination with simulation models, which mainly rely on agent-based and discrete-event systems. The scarcity and heterogeneity of the included studies suggested that a standardized framework to implement hybrid machine learning-simulation approaches in healthcare management is yet to be defined. Future efforts should aim to use these approaches to design novel intelligent in-silico models of healthcare processes and to provide effective translation to the clinics.', 'Year': 2024, 'Citation Count': 4, 'URL': 'https://www.semanticscholar.org/paper/0dbd01fa18af261c2286c6b593633e924e7c9847'}, '1923fe26a65930b85455f83f7a20e48a8e1a78fc': {'Title': 'Quantum Machine Learning in Healthcare: Developments and Challenges', 'Abstract': 'Machine learning is playing a very significant role to process voluminous data and its classification in a variety of domains. Due to better performance and rapid development in the last decade, quantum computing is also benefiting many areas. With the amalgamation of these two technologies, a new domain for processing big data more efficiently and accurately has evolved, known as quantum machine learning. Healthcare is one of the prominent domains where a huge volume of data is produced from several processes. Efficient processing of healthcare data and records is very important to facilitate many biological and medical processes to provide better treatments to patients. The fundamental aim of this paper is to present a state-of-the-art review of quantum computing concepts, quantum machine learning framework, and the various applications of quantum machine learning in the domain of healthcare. The comparison of QML healthcare models with ML-based healthcare applications is discussed in this work. The authors also present the various challenges faced in the deployment of quantum machine learning algorithms in the domain of healthcare and possible future research directions.', 'Year': 2023, 'Citation Count': 24, 'URL': 'https://www.semanticscholar.org/paper/1923fe26a65930b85455f83f7a20e48a8e1a78fc'}, '06376d29527a5e1941d8ad7510cc4e6783909af3': {'Title': 'Significance of machine learning in healthcare: Features, pillars and applications', 'Abstract': None, 'Year': 2022, 'Citation Count': 282, 'URL': 'https://www.semanticscholar.org/paper/06376d29527a5e1941d8ad7510cc4e6783909af3'}}\", name='search_tool', id='4599c644-59c1-4d0c-be25-35429ceb7911', tool_call_id='call_mwPd32ci5RmnlVyDkzMiaZ3T'), AIMessage(content='', additional_kwargs={'tool_calls': [{'id': 'call_2F5p4MPPDbwbpgF6kpqqdxRq', 'function': {'arguments': '{\"state\":{\"papers\":[{\"Title\":\"A Comprehensive Review on Machine Learning in Healthcare Industry: Classification, Restrictions, Opportunities and Challenges\",\"Abstract\":\"Recently, various sophisticated methods, including machine learning and artificial intelligence, have been employed to examine health-related data. Medical professionals are acquiring enhanced diagnostic and treatment abilities by utilizing machine learning applications in the healthcare domain. Medical data have been used by many researchers to detect diseases and identify patterns. In the current literature, there are very few studies that address machine learning algorithms to improve healthcare data accuracy and efficiency. We examined the effectiveness of machine learning algorithms in improving time series healthcare metrics for heart rate data transmission (accuracy and efficiency). In this paper, we reviewed several machine learning algorithms in healthcare applications. After a comprehensive overview and investigation of supervised and unsupervised machine learning algorithms, we also demonstrated time series tasks based on past values (along with reviewing their feasibility for both small and large datasets).\",\"Year\":2023,\"Citation Count\":105,\"URL\":\"https://www.semanticscholar.org/paper/ac2cffc4b9f96bae24809d738777ae897094ae33\"},{\"Title\":\"Multiple stakeholders drive diverse interpretability requirements for machine learning in healthcare\",\"Abstract\":null,\"Year\":2023,\"Citation Count\":22,\"URL\":\"https://www.semanticscholar.org/paper/5289f24cc7b7d3551d82c336b6dbab5e3e5a5944\"},{\"Title\":\"Combining simulation models and machine learning in healthcare management: strategies and applications\",\"Abstract\":\"Simulation models and artificial intelligence (AI) are largely used to address healthcare and biomedical engineering problems. Both approaches showed promising results in the analysis and optimization of healthcare processes. Therefore, the combination of simulation models and AI could provide a strategy to further boost the quality of health services. In this work, a systematic review of studies applying a hybrid simulation models and AI approach to address healthcare management challenges was carried out. Scopus, Web of Science, and PubMed databases were screened by independent reviewers. The main strategies to combine simulation and AI as well as the major healthcare application scenarios were identified and discussed. Moreover, tools and algorithms to implement the proposed approaches were described. Results showed that machine learning appears to be the most employed AI strategy in combination with simulation models, which mainly rely on agent-based and discrete-event systems. The scarcity and heterogeneity of the included studies suggested that a standardized framework to implement hybrid machine learning-simulation approaches in healthcare management is yet to be defined. Future efforts should aim to use these approaches to design novel intelligent in-silico models of healthcare processes and to provide effective translation to the clinics.\",\"Year\":2024,\"Citation Count\":4,\"URL\":\"https://www.semanticscholar.org/paper/0dbd01fa18af261c2286c6b593633e924e7c9847\"},{\"Title\":\"Quantum Machine Learning in Healthcare: Developments and Challenges\",\"Abstract\":\"Machine learning is playing a very significant role to process voluminous data and its classification in a variety of domains. Due to better performance and rapid development in the last decade, quantum computing is also benefiting many areas. With the amalgamation of these two technologies, a new domain for processing big data more efficiently and accurately has evolved, known as quantum machine learning. Healthcare is one of the prominent domains where a huge volume of data is produced from several processes. Efficient processing of healthcare data and records is very important to facilitate many biological and medical processes to provide better treatments to patients. The fundamental aim of this paper is to present a state-of-the-art review of quantum computing concepts, quantum machine learning framework, and the various applications of quantum machine learning in the domain of healthcare. The comparison of QML healthcare models with ML-based healthcare applications is discussed in this work. The authors also present the various challenges faced in the deployment of quantum machine learning algorithms in the domain of healthcare and possible future research directions.\",\"Year\":2023,\"Citation Count\":24,\"URL\":\"https://www.semanticscholar.org/paper/1923fe26a65930b85455f83f7a20e48a8e1a78fc\"},{\"Title\":\"Significance of machine learning in healthcare: Features, pillars and applications\",\"Abstract\":null,\"Year\":2022,\"Citation Count\":282,\"URL\":\"https://www.semanticscholar.org/paper/06376d29527a5e1941d8ad7510cc4e6783909af3\"}]}}', 'name': 'display_results'}, 'type': 'function'}], 'refusal': None}, response_metadata={'token_usage': {'completion_tokens': 932, 'prompt_tokens': 2406, 'total_tokens': 3338, 'completion_tokens_details': {'accepted_prediction_tokens': 0, 'audio_tokens': 0, 'reasoning_tokens': 0, 'rejected_prediction_tokens': 0}, 'prompt_tokens_details': {'audio_tokens': 0, 'cached_tokens': 1152}}, 'model_name': 'gpt-4o-mini-2024-07-18', 'system_fingerprint': 'fp_bd83329f63', 'finish_reason': 'tool_calls', 'logprobs': None}, id='run-0d4f21ec-9a58-43d1-8675-cd7053d9393e-0', tool_calls=[{'name': 'display_results', 'args': {'state': {'papers': [{'Title': 'A Comprehensive Review on Machine Learning in Healthcare Industry: Classification, Restrictions, Opportunities and Challenges', 'Abstract': 'Recently, various sophisticated methods, including machine learning and artificial intelligence, have been employed to examine health-related data. Medical professionals are acquiring enhanced diagnostic and treatment abilities by utilizing machine learning applications in the healthcare domain. Medical data have been used by many researchers to detect diseases and identify patterns. In the current literature, there are very few studies that address machine learning algorithms to improve healthcare data accuracy and efficiency. We examined the effectiveness of machine learning algorithms in improving time series healthcare metrics for heart rate data transmission (accuracy and efficiency). In this paper, we reviewed several machine learning algorithms in healthcare applications. After a comprehensive overview and investigation of supervised and unsupervised machine learning algorithms, we also demonstrated time series tasks based on past values (along with reviewing their feasibility for both small and large datasets).', 'Year': 2023, 'Citation Count': 105, 'URL': 'https://www.semanticscholar.org/paper/ac2cffc4b9f96bae24809d738777ae897094ae33'}, {'Title': 'Multiple stakeholders drive diverse interpretability requirements for machine learning in healthcare', 'Abstract': None, 'Year': 2023, 'Citation Count': 22, 'URL': 'https://www.semanticscholar.org/paper/5289f24cc7b7d3551d82c336b6dbab5e3e5a5944'}, {'Title': 'Combining simulation models and machine learning in healthcare management: strategies and applications', 'Abstract': 'Simulation models and artificial intelligence (AI) are largely used to address healthcare and biomedical engineering problems. Both approaches showed promising results in the analysis and optimization of healthcare processes. Therefore, the combination of simulation models and AI could provide a strategy to further boost the quality of health services. In this work, a systematic review of studies applying a hybrid simulation models and AI approach to address healthcare management challenges was carried out. Scopus, Web of Science, and PubMed databases were screened by independent reviewers. The main strategies to combine simulation and AI as well as the major healthcare application scenarios were identified and discussed. Moreover, tools and algorithms to implement the proposed approaches were described. Results showed that machine learning appears to be the most employed AI strategy in combination with simulation models, which mainly rely on agent-based and discrete-event systems. The scarcity and heterogeneity of the included studies suggested that a standardized framework to implement hybrid machine learning-simulation approaches in healthcare management is yet to be defined. Future efforts should aim to use these approaches to design novel intelligent in-silico models of healthcare processes and to provide effective translation to the clinics.', 'Year': 2024, 'Citation Count': 4, 'URL': 'https://www.semanticscholar.org/paper/0dbd01fa18af261c2286c6b593633e924e7c9847'}, {'Title': 'Quantum Machine Learning in Healthcare: Developments and Challenges', 'Abstract': 'Machine learning is playing a very significant role to process voluminous data and its classification in a variety of domains. Due to better performance and rapid development in the last decade, quantum computing is also benefiting many areas. With the amalgamation of these two technologies, a new domain for processing big data more efficiently and accurately has evolved, known as quantum machine learning. Healthcare is one of the prominent domains where a huge volume of data is produced from several processes. Efficient processing of healthcare data and records is very important to facilitate many biological and medical processes to provide better treatments to patients. The fundamental aim of this paper is to present a state-of-the-art review of quantum computing concepts, quantum machine learning framework, and the various applications of quantum machine learning in the domain of healthcare. The comparison of QML healthcare models with ML-based healthcare applications is discussed in this work. The authors also present the various challenges faced in the deployment of quantum machine learning algorithms in the domain of healthcare and possible future research directions.', 'Year': 2023, 'Citation Count': 24, 'URL': 'https://www.semanticscholar.org/paper/1923fe26a65930b85455f83f7a20e48a8e1a78fc'}, {'Title': 'Significance of machine learning in healthcare: Features, pillars and applications', 'Abstract': None, 'Year': 2022, 'Citation Count': 282, 'URL': 'https://www.semanticscholar.org/paper/06376d29527a5e1941d8ad7510cc4e6783909af3'}]}}, 'id': 'call_2F5p4MPPDbwbpgF6kpqqdxRq', 'type': 'tool_call'}], usage_metadata={'input_tokens': 2406, 'output_tokens': 932, 'total_tokens': 3338, 'input_token_details': {'audio': 0, 'cache_read': 1152}, 'output_token_details': {'audio': 0, 'reasoning': 0}}), ToolMessage(content='{\"papers\": {\"ac2cffc4b9f96bae24809d738777ae897094ae33\": {\"Title\": \"A Comprehensive Review on Machine Learning in Healthcare Industry: Classification, Restrictions, Opportunities and Challenges\", \"Abstract\": \"Recently, various sophisticated methods, including machine learning and artificial intelligence, have been employed to examine health-related data. Medical professionals are acquiring enhanced diagnostic and treatment abilities by utilizing machine learning applications in the healthcare domain. Medical data have been used by many researchers to detect diseases and identify patterns. In the current literature, there are very few studies that address machine learning algorithms to improve healthcare data accuracy and efficiency. We examined the effectiveness of machine learning algorithms in improving time series healthcare metrics for heart rate data transmission (accuracy and efficiency). In this paper, we reviewed several machine learning algorithms in healthcare applications. After a comprehensive overview and investigation of supervised and unsupervised machine learning algorithms, we also demonstrated time series tasks based on past values (along with reviewing their feasibility for both small and large datasets).\", \"Year\": 2023, \"Citation Count\": 105, \"URL\": \"https://www.semanticscholar.org/paper/ac2cffc4b9f96bae24809d738777ae897094ae33\"}, \"5289f24cc7b7d3551d82c336b6dbab5e3e5a5944\": {\"Title\": \"Multiple stakeholders drive diverse interpretability requirements for machine learning in healthcare\", \"Abstract\": null, \"Year\": 2023, \"Citation Count\": 22, \"URL\": \"https://www.semanticscholar.org/paper/5289f24cc7b7d3551d82c336b6dbab5e3e5a5944\"}, \"0dbd01fa18af261c2286c6b593633e924e7c9847\": {\"Title\": \"Combining simulation models and machine learning in healthcare management: strategies and applications\", \"Abstract\": \"Simulation models and artificial intelligence (AI) are largely used to address healthcare and biomedical engineering problems. Both approaches showed promising results in the analysis and optimization of healthcare processes. Therefore, the combination of simulation models and AI could provide a strategy to further boost the quality of health services. In this work, a systematic review of studies applying a hybrid simulation models and AI approach to address healthcare management challenges was carried out. Scopus, Web of Science, and PubMed databases were screened by independent reviewers. The main strategies to combine simulation and AI as well as the major healthcare application scenarios were identified and discussed. Moreover, tools and algorithms to implement the proposed approaches were described. Results showed that machine learning appears to be the most employed AI strategy in combination with simulation models, which mainly rely on agent-based and discrete-event systems. The scarcity and heterogeneity of the included studies suggested that a standardized framework to implement hybrid machine learning-simulation approaches in healthcare management is yet to be defined. Future efforts should aim to use these approaches to design novel intelligent in-silico models of healthcare processes and to provide effective translation to the clinics.\", \"Year\": 2024, \"Citation Count\": 4, \"URL\": \"https://www.semanticscholar.org/paper/0dbd01fa18af261c2286c6b593633e924e7c9847\"}, \"1923fe26a65930b85455f83f7a20e48a8e1a78fc\": {\"Title\": \"Quantum Machine Learning in Healthcare: Developments and Challenges\", \"Abstract\": \"Machine learning is playing a very significant role to process voluminous data and its classification in a variety of domains. Due to better performance and rapid development in the last decade, quantum computing is also benefiting many areas. With the amalgamation of these two technologies, a new domain for processing big data more efficiently and accurately has evolved, known as quantum machine learning. Healthcare is one of the prominent domains where a huge volume of data is produced from several processes. Efficient processing of healthcare data and records is very important to facilitate many biological and medical processes to provide better treatments to patients. The fundamental aim of this paper is to present a state-of-the-art review of quantum computing concepts, quantum machine learning framework, and the various applications of quantum machine learning in the domain of healthcare. The comparison of QML healthcare models with ML-based healthcare applications is discussed in this work. The authors also present the various challenges faced in the deployment of quantum machine learning algorithms in the domain of healthcare and possible future research directions.\", \"Year\": 2023, \"Citation Count\": 24, \"URL\": \"https://www.semanticscholar.org/paper/1923fe26a65930b85455f83f7a20e48a8e1a78fc\"}, \"06376d29527a5e1941d8ad7510cc4e6783909af3\": {\"Title\": \"Significance of machine learning in healthcare: Features, pillars and applications\", \"Abstract\": null, \"Year\": 2022, \"Citation Count\": 282, \"URL\": \"https://www.semanticscholar.org/paper/06376d29527a5e1941d8ad7510cc4e6783909af3\"}}, \"multi_papers\": {}}', name='display_results', id='11c2ddd5-8501-4f55-a116-5cc9cf55abac', tool_call_id='call_2F5p4MPPDbwbpgF6kpqqdxRq'), AIMessage(content='Here are some recent papers on machine learning in healthcare:\\n\\n1. **[A Comprehensive Review on Machine Learning in Healthcare Industry: Classification, Restrictions, Opportunities and Challenges](https://www.semanticscholar.org/paper/ac2cffc4b9f96bae24809d738777ae897094ae33)** (2023)\\n   - **Abstract**: This paper reviews various machine learning algorithms in healthcare applications, examining their effectiveness in improving healthcare data accuracy and efficiency, particularly in time series healthcare metrics for heart rate data transmission.\\n   - **Citation Count**: 105\\n\\n2. **[Multiple stakeholders drive diverse interpretability requirements for machine learning in healthcare](https://www.semanticscholar.org/paper/5289f24cc7b7d3551d82c336b6dbab5e3e5a5944)** (2023)\\n   - **Abstract**: Not available.\\n   - **Citation Count**: 22\\n\\n3. **[Combining simulation models and machine learning in healthcare management: strategies and applications](https://www.semanticscholar.org/paper/0dbd01fa18af261c2286c6b593633e924e7c9847)** (2024)\\n   - **Abstract**: This systematic review discusses the combination of simulation models and AI in healthcare management, identifying strategies and application scenarios, and highlighting the need for a standardized framework for hybrid machine learning-simulation approaches.\\n   - **Citation Count**: 4\\n\\n4. **[Quantum Machine Learning in Healthcare: Developments and Challenges](https://www.semanticscholar.org/paper/1923fe26a65930b85455f83f7a20e48a8e1a78fc)** (2023)\\n   - **Abstract**: This paper presents a review of quantum computing concepts and their applications in healthcare, discussing the challenges faced in deploying quantum machine learning algorithms.\\n   - **Citation Count**: 24\\n\\n5. **[Significance of machine learning in healthcare: Features, pillars and applications](https://www.semanticscholar.org/paper/06376d29527a5e1941d8ad7510cc4e6783909af3)** (2022)\\n   - **Abstract**: Not available.\\n   - **Citation Count**: 282\\n\\nIf you need more information or further assistance, feel free to ask!', additional_kwargs={'refusal': None}, response_metadata={'token_usage': {'completion_tokens': 503, 'prompt_tokens': 4446, 'total_tokens': 4949, 'completion_tokens_details': {'accepted_prediction_tokens': 0, 'audio_tokens': 0, 'reasoning_tokens': 0, 'rejected_prediction_tokens': 0}, 'prompt_tokens_details': {'audio_tokens': 0, 'cached_tokens': 3200}}, 'model_name': 'gpt-4o-mini-2024-07-18', 'system_fingerprint': 'fp_bd83329f63', 'finish_reason': 'stop', 'logprobs': None}, id='run-3d5ec968-201a-4195-8657-c43e4010d648-0', usage_metadata={'input_tokens': 4446, 'output_tokens': 503, 'total_tokens': 4949, 'input_token_details': {'audio': 0, 'cache_read': 3200}, 'output_token_details': {'audio': 0, 'reasoning': 0}})], 'papers': {'ac2cffc4b9f96bae24809d738777ae897094ae33': {'Title': 'A Comprehensive Review on Machine Learning in Healthcare Industry: Classification, Restrictions, Opportunities and Challenges', 'Abstract': 'Recently, various sophisticated methods, including machine learning and artificial intelligence, have been employed to examine health-related data. Medical professionals are acquiring enhanced diagnostic and treatment abilities by utilizing machine learning applications in the healthcare domain. Medical data have been used by many researchers to detect diseases and identify patterns. In the current literature, there are very few studies that address machine learning algorithms to improve healthcare data accuracy and efficiency. We examined the effectiveness of machine learning algorithms in improving time series healthcare metrics for heart rate data transmission (accuracy and efficiency). In this paper, we reviewed several machine learning algorithms in healthcare applications. After a comprehensive overview and investigation of supervised and unsupervised machine learning algorithms, we also demonstrated time series tasks based on past values (along with reviewing their feasibility for both small and large datasets).', 'Year': 2023, 'Citation Count': 105, 'URL': 'https://www.semanticscholar.org/paper/ac2cffc4b9f96bae24809d738777ae897094ae33'}, '5289f24cc7b7d3551d82c336b6dbab5e3e5a5944': {'Title': 'Multiple stakeholders drive diverse interpretability requirements for machine learning in healthcare', 'Abstract': None, 'Year': 2023, 'Citation Count': 22, 'URL': 'https://www.semanticscholar.org/paper/5289f24cc7b7d3551d82c336b6dbab5e3e5a5944'}, '0dbd01fa18af261c2286c6b593633e924e7c9847': {'Title': 'Combining simulation models and machine learning in healthcare management: strategies and applications', 'Abstract': 'Simulation models and artificial intelligence (AI) are largely used to address healthcare and biomedical engineering problems. Both approaches showed promising results in the analysis and optimization of healthcare processes. Therefore, the combination of simulation models and AI could provide a strategy to further boost the quality of health services. In this work, a systematic review of studies applying a hybrid simulation models and AI approach to address healthcare management challenges was carried out. Scopus, Web of Science, and PubMed databases were screened by independent reviewers. The main strategies to combine simulation and AI as well as the major healthcare application scenarios were identified and discussed. Moreover, tools and algorithms to implement the proposed approaches were described. Results showed that machine learning appears to be the most employed AI strategy in combination with simulation models, which mainly rely on agent-based and discrete-event systems. The scarcity and heterogeneity of the included studies suggested that a standardized framework to implement hybrid machine learning-simulation approaches in healthcare management is yet to be defined. Future efforts should aim to use these approaches to design novel intelligent in-silico models of healthcare processes and to provide effective translation to the clinics.', 'Year': 2024, 'Citation Count': 4, 'URL': 'https://www.semanticscholar.org/paper/0dbd01fa18af261c2286c6b593633e924e7c9847'}, '1923fe26a65930b85455f83f7a20e48a8e1a78fc': {'Title': 'Quantum Machine Learning in Healthcare: Developments and Challenges', 'Abstract': 'Machine learning is playing a very significant role to process voluminous data and its classification in a variety of domains. Due to better performance and rapid development in the last decade, quantum computing is also benefiting many areas. With the amalgamation of these two technologies, a new domain for processing big data more efficiently and accurately has evolved, known as quantum machine learning. Healthcare is one of the prominent domains where a huge volume of data is produced from several processes. Efficient processing of healthcare data and records is very important to facilitate many biological and medical processes to provide better treatments to patients. The fundamental aim of this paper is to present a state-of-the-art review of quantum computing concepts, quantum machine learning framework, and the various applications of quantum machine learning in the domain of healthcare. The comparison of QML healthcare models with ML-based healthcare applications is discussed in this work. The authors also present the various challenges faced in the deployment of quantum machine learning algorithms in the domain of healthcare and possible future research directions.', 'Year': 2023, 'Citation Count': 24, 'URL': 'https://www.semanticscholar.org/paper/1923fe26a65930b85455f83f7a20e48a8e1a78fc'}, '06376d29527a5e1941d8ad7510cc4e6783909af3': {'Title': 'Significance of machine learning in healthcare: Features, pillars and applications', 'Abstract': None, 'Year': 2022, 'Citation Count': 282, 'URL': 'https://www.semanticscholar.org/paper/06376d29527a5e1941d8ad7510cc4e6783909af3'}}, 'multi_papers': {}}\n",
                        "INFO:aiagents4pharma.talk2scholars.state.state_talk2scholars:Updating existing state {} with the state dict: {'ac2cffc4b9f96bae24809d738777ae897094ae33': {'Title': 'A Comprehensive Review on Machine Learning in Healthcare Industry: Classification, Restrictions, Opportunities and Challenges', 'Abstract': 'Recently, various sophisticated methods, including machine learning and artificial intelligence, have been employed to examine health-related data. Medical professionals are acquiring enhanced diagnostic and treatment abilities by utilizing machine learning applications in the healthcare domain. Medical data have been used by many researchers to detect diseases and identify patterns. In the current literature, there are very few studies that address machine learning algorithms to improve healthcare data accuracy and efficiency. We examined the effectiveness of machine learning algorithms in improving time series healthcare metrics for heart rate data transmission (accuracy and efficiency). In this paper, we reviewed several machine learning algorithms in healthcare applications. After a comprehensive overview and investigation of supervised and unsupervised machine learning algorithms, we also demonstrated time series tasks based on past values (along with reviewing their feasibility for both small and large datasets).', 'Year': 2023, 'Citation Count': 105, 'URL': 'https://www.semanticscholar.org/paper/ac2cffc4b9f96bae24809d738777ae897094ae33'}, '5289f24cc7b7d3551d82c336b6dbab5e3e5a5944': {'Title': 'Multiple stakeholders drive diverse interpretability requirements for machine learning in healthcare', 'Abstract': None, 'Year': 2023, 'Citation Count': 22, 'URL': 'https://www.semanticscholar.org/paper/5289f24cc7b7d3551d82c336b6dbab5e3e5a5944'}, '0dbd01fa18af261c2286c6b593633e924e7c9847': {'Title': 'Combining simulation models and machine learning in healthcare management: strategies and applications', 'Abstract': 'Simulation models and artificial intelligence (AI) are largely used to address healthcare and biomedical engineering problems. Both approaches showed promising results in the analysis and optimization of healthcare processes. Therefore, the combination of simulation models and AI could provide a strategy to further boost the quality of health services. In this work, a systematic review of studies applying a hybrid simulation models and AI approach to address healthcare management challenges was carried out. Scopus, Web of Science, and PubMed databases were screened by independent reviewers. The main strategies to combine simulation and AI as well as the major healthcare application scenarios were identified and discussed. Moreover, tools and algorithms to implement the proposed approaches were described. Results showed that machine learning appears to be the most employed AI strategy in combination with simulation models, which mainly rely on agent-based and discrete-event systems. The scarcity and heterogeneity of the included studies suggested that a standardized framework to implement hybrid machine learning-simulation approaches in healthcare management is yet to be defined. Future efforts should aim to use these approaches to design novel intelligent in-silico models of healthcare processes and to provide effective translation to the clinics.', 'Year': 2024, 'Citation Count': 4, 'URL': 'https://www.semanticscholar.org/paper/0dbd01fa18af261c2286c6b593633e924e7c9847'}, '1923fe26a65930b85455f83f7a20e48a8e1a78fc': {'Title': 'Quantum Machine Learning in Healthcare: Developments and Challenges', 'Abstract': 'Machine learning is playing a very significant role to process voluminous data and its classification in a variety of domains. Due to better performance and rapid development in the last decade, quantum computing is also benefiting many areas. With the amalgamation of these two technologies, a new domain for processing big data more efficiently and accurately has evolved, known as quantum machine learning. Healthcare is one of the prominent domains where a huge volume of data is produced from several processes. Efficient processing of healthcare data and records is very important to facilitate many biological and medical processes to provide better treatments to patients. The fundamental aim of this paper is to present a state-of-the-art review of quantum computing concepts, quantum machine learning framework, and the various applications of quantum machine learning in the domain of healthcare. The comparison of QML healthcare models with ML-based healthcare applications is discussed in this work. The authors also present the various challenges faced in the deployment of quantum machine learning algorithms in the domain of healthcare and possible future research directions.', 'Year': 2023, 'Citation Count': 24, 'URL': 'https://www.semanticscholar.org/paper/1923fe26a65930b85455f83f7a20e48a8e1a78fc'}, '06376d29527a5e1941d8ad7510cc4e6783909af3': {'Title': 'Significance of machine learning in healthcare: Features, pillars and applications', 'Abstract': None, 'Year': 2022, 'Citation Count': 282, 'URL': 'https://www.semanticscholar.org/paper/06376d29527a5e1941d8ad7510cc4e6783909af3'}}\n",
                        "INFO:aiagents4pharma.talk2scholars.state.state_talk2scholars:Updating existing state {} with the state dict: {}\n",
                        "INFO:aiagents4pharma.talk2scholars.tools.s2.display_results:Displaying papers from the state\n"
                    ]
                },
                {
                    "name": "stdout",
                    "output_type": "stream",
                    "text": [
                        "Results retrieved successfully through main agent\n"
                    ]
                }
            ],
            "source": [
                "from aiagents4pharma.talk2scholars.agents.main_agent import get_app\n",
                "from langchain_core.messages import HumanMessage\n",
                "from aiagents4pharma.talk2scholars.state.state_talk2scholars import Talk2Scholars\n",
                "\n",
                "thread_id = \"tutorial_demo\"\n",
                "app = get_app(thread_id=thread_id, llm_model=\"gpt-4o-mini\")\n",
                "\n",
                "# Create initial state\n",
                "initial_state = Talk2Scholars(\n",
                "    messages=[\n",
                "        HumanMessage(content=\"search for recent papers about machine learning in healthcare\")\n",
                "    ]\n",
                ")\n",
                "\n",
                "try:\n",
                "    # Run query through the main agent\n",
                "    response = app.invoke(\n",
                "        initial_state,\n",
                "        config={\n",
                "            \"configurable\": {\n",
                "                \"thread_id\": thread_id,\n",
                "                \"checkpoint_ns\": \"demo_namespace\",\n",
                "                \"checkpoint_id\": \"initial_checkpoint\",\n",
                "            }\n",
                "        },\n",
                "    )\n",
                "    \n",
                "    # Consistently use display_results as our interface\n",
                "    state = {\"papers\": response.get(\"papers\", {})}\n",
                "    results = display_results.invoke({\"state\": state})\n",
                "    print(\"Results retrieved successfully through main agent\")\n",
                "except Exception as e:\n",
                "    print(f\"Error during main agent execution: {e}\")"
            ]
        },
        {
            "cell_type": "markdown",
            "metadata": {},
            "source": [
                "#### Understanding the Role of display_results\n",
                "\n",
                "The display_results tool is not just a formatting utility - it's our primary interface for \n",
                "retrieving results throughout the system. This consistent pattern provides several benefits:\n",
                "\n",
                "1. Standardized Access:\n",
                "   - All results are accessed through the same interface\n",
                "   - Consistent error handling across all operations\n",
                "   - Uniform data structure for all results\n",
                "\n",
                "2. State Management:\n",
                "   - Proper validation of state contents\n",
                "   - Clear separation between raw data and presented results\n",
                "   - Consistent handling of empty or invalid states\n",
                "\n",
                "3. System Integration:\n",
                "   - Seamless integration with the hierarchical agent system\n",
                "   - Consistent interface for both simple queries and complex workflows\n",
                "   - Reliable result retrieval regardless of operation type\n",
                "\n",
                "This is why we consistently use display_results instead of accessing raw data directly,\n",
                "ensuring a robust and maintainable system."
            ]
        },
        {
            "cell_type": "markdown",
            "metadata": {},
            "source": [
                "#### Testing the Application\n",
                "\n",
                "The application includes comprehensive tests. Here's how to run them:"
            ]
        },
        {
            "cell_type": "code",
            "execution_count": 10,
            "metadata": {},
            "outputs": [],
            "source": [
                "# !pytest tests/test_langgraph.py -v\n",
                "# This will run all tests and show detailed output"
            ]
        },
        {
            "cell_type": "markdown",
            "metadata": {},
            "source": [
                "#### Tips for Best Results\n",
                "\n",
                "1. For paper searches:\n",
                "   - Use specific academic terms\n",
                "   - Include relevant keywords\n",
                "   - Specify year ranges when needed\n",
                "\n",
                "2. For recommendations:\n",
                "   - Use paper IDs from search results\n",
                "   - Try both single and multi-paper recommendations\n",
                "   - Adjust the limit parameter based on your needs\n",
                "\n",
                "3. Error handling:\n",
                "   - Always check the response structure\n",
                "   - Use try-except blocks for robust error handling\n",
                "   - Verify paper IDs exist before requesting recommendations"
            ]
        }
    ],
    "metadata": {
        "kernelspec": {
            "display_name": "venv",
            "language": "python",
            "name": "python3"
        },
        "language_info": {
            "codemirror_mode": {
                "name": "ipython",
                "version": 3
            },
            "file_extension": ".py",
            "mimetype": "text/x-python",
            "name": "python",
            "nbconvert_exporter": "python",
            "pygments_lexer": "ipython3",
            "version": "3.12.9"
        }
    },
    "nbformat": 4,
    "nbformat_minor": 2
}
