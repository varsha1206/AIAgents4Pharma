{
 "cells": [
  {
   "cell_type": "code",
   "execution_count": null,
   "metadata": {},
   "outputs": [],
   "source": [
    "# import libraries\n",
    "import scanpy as sc\n",
    "import pandas as pd\n",
    "import numpy as np\n",
    "import plotly.express as px\n",
    "import matplotlib.pyplot as plt\n",
    "import seaborn as sns"
   ]
  },
  {
   "cell_type": "code",
   "execution_count": null,
   "metadata": {},
   "outputs": [],
   "source": [
    "def discover_new_annotations(data, clustering_resolution=0.8, n_pcs=50):\n",
    "    \"\"\"\n",
    "    Discovers new cell annotations using clustering algorithms and UMAP visualization.\n",
    "\n",
    "    Parameters:\n",
    "    - data: AnnData object containing single-cell gene expression data.\n",
    "    - clustering_resolution: Resolution for Leiden clustering (higher values create more clusters).\n",
    "    - n_pcs: Number of principal components for dimensionality reduction.\n",
    "\n",
    "    Returns:\n",
    "    - data: Annotated AnnData object with new clusters in `data.obs[\"discovered_clusters\"]`.\n",
    "    \"\"\"\n",
    "    # Preprocess data\n",
    "    sc.pp.pca(data, n_comps=n_pcs)\n",
    "    sc.pp.neighbors(data, use_rep=\"X_pca\")\n",
    "\n",
    "    # Perform clustering\n",
    "    sc.tl.leiden(data, resolution=clustering_resolution)  # Leiden clustering algorithm\n",
    "    data.obs[\"discovered_clusters\"] = data.obs[\"leiden\"]  # Save clusters to new column\n",
    "\n",
    "    # Compute UMAP\n",
    "    sc.tl.umap(data)\n",
    "\n",
    "    print(\"Clusters discovered and annotated.\")\n",
    "    return data\n"
   ]
  },
  {
   "cell_type": "code",
   "execution_count": null,
   "metadata": {},
   "outputs": [],
   "source": [
    "# Visualize clusters using UMAP\n",
    "def visualize_clusters_on_umap(data, cluster_column=\"discovered_clusters\"):\n",
    "    \"\"\"\n",
    "    Visualizes discovered clusters on a UMAP plot.\n",
    "\n",
    "    Parameters:\n",
    "    - data: AnnData object containing UMAP coordinates and clusters.\n",
    "    - cluster_column: Column name containing cluster information.\n",
    "\n",
    "    Returns:\n",
    "    - fig: Plotly UMAP visualization.\n",
    "    \"\"\"\n",
    "    umap_df = pd.DataFrame(data.obsm[\"X_umap\"], columns=[\"UMAP1\", \"UMAP2\"])\n",
    "    umap_df[cluster_column] = data.obs[cluster_column].values\n",
    "\n",
    "    fig = px.scatter(\n",
    "        umap_df,\n",
    "        x=\"UMAP1\",\n",
    "        y=\"UMAP2\",\n",
    "        color=cluster_column,\n",
    "        title=\"UMAP with Discovered Clusters\",\n",
    "        labels={cluster_column: \"Cluster\"},\n",
    "    )\n",
    "    fig.update_traces(marker=dict(size=5, opacity=0.8))\n",
    "    return fig\n"
   ]
  },
  {
   "cell_type": "code",
   "execution_count": null,
   "metadata": {},
   "outputs": [],
   "source": [
    "# Visualize gene expression in clusters using a bubble plot\n",
    "def plot_bubble_matrix(adata, cluster_column=\"discovered_clusters\", top_n_genes=10):\n",
    "    # Get the cluster labels\n",
    "    clusters = adata.obs[cluster_column].unique()\n",
    "\n",
    "    # Extract the marker genes (use the most variable genes or any list you prefer)\n",
    "    marker_genes = adata.var_names[:top_n_genes]\n",
    "\n",
    "    # Collect the gene expression for each cluster\n",
    "    cluster_expression = []\n",
    "    for cluster in clusters:\n",
    "        # Get the subset of cells belonging to the current cluster\n",
    "        cluster_cells = adata[adata.obs[cluster_column] == cluster]\n",
    "\n",
    "        # Get the average expression for each marker gene\n",
    "        mean_expression = cluster_cells[:, marker_genes].X.mean(axis=0)  # Make sure it's 2D\n",
    "        cluster_expression.append(mean_expression.A1 if hasattr(mean_expression, \"A1\") else mean_expression)\n",
    "\n",
    "    # Convert cluster_expression to a 2D numpy array\n",
    "    cluster_expression = np.array(cluster_expression)\n",
    "\n",
    "    # Create a DataFrame for the cluster expression matrix\n",
    "    bubble_df = pd.DataFrame(\n",
    "        cluster_expression,\n",
    "        columns=marker_genes,\n",
    "        index=adata.obs[cluster_column].unique(),\n",
    "    )\n",
    "\n",
    "    bubble_df.index.name = \"Cluster\"\n",
    "    bubble_df = bubble_df.reset_index().melt(id_vars=\"Cluster\", var_name=\"Gene\", value_name=\"Expression\")\n",
    "\n",
    "    # Plotting the bubble plot\n",
    "    plt.figure(figsize=(12, 8))\n",
    "    scatter = sns.scatterplot(\n",
    "        data=bubble_df,\n",
    "        x=\"Gene\",\n",
    "        y=\"Cluster\",\n",
    "        size=\"Expression\",\n",
    "        hue=\"Expression\",\n",
    "        palette=\"viridis\",\n",
    "        sizes=(50, 500),\n",
    "        marker=\"o\",\n",
    "    )\n",
    "\n",
    "    # Adjust the legend position to the right side\n",
    "    plt.legend(title=\"Expression\", bbox_to_anchor=(1.05, 0.5), loc=\"center left\")\n",
    "\n",
    "    # Title and label adjustments\n",
    "    plt.title(\"Gene Expression in Clusters\")\n",
    "    plt.xticks(rotation=90)\n",
    "    plt.tight_layout()  # Ensure the plot fits within the figure space\n",
    "\n",
    "    # Show the plot\n",
    "    plt.show()\n"
   ]
  },
  {
   "cell_type": "code",
   "execution_count": null,
   "metadata": {},
   "outputs": [
    {
     "name": "stderr",
     "output_type": "stream",
     "text": [
      "/Users/jaydeepbhat/Documents/Hackathon/2024_AI_Agent/scripts/talk2cells/lib/python3.11/site-packages/tqdm/auto.py:21: TqdmWarning: IProgress not found. Please update jupyter and ipywidgets. See https://ipywidgets.readthedocs.io/en/stable/user_install.html\n",
      "  from .autonotebook import tqdm as notebook_tqdm\n",
      "/var/folders/vn/z_dtm8w13b92pwg7wrgkkfx00000gn/T/ipykernel_56284/3840506039.py:26: FutureWarning: In the future, the default backend for leiden will be igraph instead of leidenalg.\n",
      "\n",
      " To achieve the future defaults please pass: flavor=\"igraph\" and n_iterations=2.  directed must also be False to work with igraph's implementation.\n",
      "  sc.tl.leiden(data, resolution=clustering_resolution)  # Leiden clustering algorithm\n"
     ]
    },
    {
     "name": "stdout",
     "output_type": "stream",
     "text": [
      "Clusters discovered and annotated.\n"
     ]
    },
    {
     "data": {
      "application/vnd.plotly.v1+json": {
       "config": {
        "plotlyServerURL": "https://plot.ly"
       },
       "data": [
        {
         "hovertemplate": "Cluster=3<br>UMAP1=%{x}<br>UMAP2=%{y}<extra></extra>",
         "legendgroup": "3",
         "marker": {
          "color": "#636efa",
          "opacity": 0.8,
          "size": 5,
          "symbol": "circle"
         },
         "mode": "markers",
         "name": "3",
         "showlegend": true,
         "type": "scattergl",
         "x": {
          "bdata": "R2rRQE3yr0DggbZAUpOjQJtqtED7X7NAfrzYQHixtECRwq1AHDHLQG+0QECoI5hA45ekQGmtbED7KqdACDyJQEb1x0DqMXtAZmSZQKa3ckBod0RAR1qyQJfwtkAJ449AH5e9QPFTmkDXB4lAqp11QFrZqUCeN6xAi5nCQPaOn0A3NbtAT4+qQClTzEBs1IhA1VnWQJGwp0BZhqZARUKFQIFf2kD+bERAGmWiQCJzBEBnhJRAol5bQOEjiEAWE7VA6hyMQP+7eEBoR7ZAThCKQDbapUAhbZdARUuFQAnpz0AZ4IVArf6eQCx4okCC76xAyWHdQJ1TjUB984JADaSpQCG1m0D450FAjE2oQFtar0DgB4hAaeuYQE5Ov0Azc3BAPM2fQMMEo0ClV69Az6N1QLy8j0AMkKNAnFe8QJJei0CzwZ9AAPp9QIjWnEDv45dA7DDEQJjFs0Aop5RAWiKfQNm1t0AvMWVAmhVbQCdfykAfyW9AlocXQEqRyUAW10hAbY3BQNnrHkAevLJA/VZNQEKsd0AXnLhAUBfSQP87bkBOjHBAkzF5QJ2xTUDdZnNAVrl5QB2OSEC4UWlApVuNQCIFr0CS8L9A/eGtQCVXTEAcGrBAiBRCQJiefkBKyHNAiGaHQD8J60CAI5pAGVeIQNfBpED0dXBAy/JVQElkSEAvQtlArgrSQDzo0EB718NAGu2gQKaSX0CRF71Amhi1QDtRrUAMWqpAPUuAQALFvUB5MYRAJJ5bQAuAnUDhmqhAgkXYQF2HyUBBAFpA9kG1QPb6fUDAPo1AHJ2+QEAYskDFPbJAQo3CQDgGdkBAO0RAEp9SQKV5uUAgqc1Aeu1HQL0dYUCbyIVAj8HCQAEoxUC7eFdA7gGiQFq0zEBZqFBADUa8QGtw5UCXB2VAkwgmQLT/WEAchHBAm37RQFBNuECfWMlA8PsvQAiR1UBPlldAV+HFQIhawEB72cBAi7u4QAqwwkB+VV5AAt+HQI7rs0AGIYpAoAGkQEXQwkA6sUxAIIu0QAd8l0Ais7NABtStQLlX40BBDK5AQKN9QEQDlkB/edZAy6ikQE+drECJKsVAAJjfQJcfN0C93YVA3jt8QOnxVEBVX2hARcSIQHt1wUA/ac1A2t/CQJYEykB8P9JACQC8QJekqUBPpqxAcdmdQNyzxUDEqoZAES6JQAS+vUALY8hAK8zMQIt/nEBpQ5BA6KpZQCMXYEB6+MdAOJWnQKdBgECmxZtApnqDQOIinkBSDbRAsxPDQF4ZrED6kphA0AaHQJp0tUAY21JA6gG5QHLUS0BoS81AnCfAQKfSWED+MZ9AR61bQNJkg0DKlqlABHdQQNDTh0BX8I9AsgmsQJcGnECaXDpAyj6eQKwhtkASFslAp2ykQKzDjUD4UYNA4H/KQFXg0EC/Qq9A4+VMQO5ffkABd5BA82bHQH1k2EC/j9RA5uGuQFj/pEAlYb5ApRaxQPDtHkBINJBAZyW7QKYmQkAnTMNAnxvOQBw+qECN9ZJA67O2QMLkh0CzpZVAtzd4QNK3q0BXgLdAFBJ+QNfRuECN4RBAzFi4QPFZakABM4JAyyjHQC0pnkBWIKJA+02nQLweqkCw0J9AyJhMQKcjzUBGD6pAPi84QJi2c0ChWodAj+bwQB+po0C2cctAjg+bQD1wWUAjUqJA4h9tQIX3vEAXHzZAw1yvQN1CrEAL6plAD+aeQIBbrECmZ7tAtgtoQF0c1UBXM51A4UedQDHMsUDpIMhAJYehQMKn10CCe51ADYSEQPXEm0ASkFpArkN8QNtkpEDdhbBAbjKRQKfq4UCW5rlAiCnPQJGSZEChqGZA888uQLru2UCZRo5AQqydQArUvUA=",
          "dtype": "f4"
         },
         "xaxis": "x",
         "y": {
          "bdata": "ymOFwNlplcDVJIvA4ceowN9gsMDVzojA1DWjwAnNV8BkmVHAY3JmwOhXo8B2XbTAjSCLwCuJncD0h2jAH72owEXTZMB1Uo7AfjqHwLk7dcDyVprAOIxiwJ8coMC5NqDA0kKTwIJlYMBa7p3Aj2elwEe5msBD0DDAg3UcwG/RecC7QXrAw8FkwLIPqsAbj37AiQFewLkPXcC0NpHA7kGfwELkg8BNS5PAF/t+wFnIhcDmHa3AoYmOwF3XhsCMm4vA47eqwNiMisAAh3bApAF/wMsUSsA/2knAbvNLwCopjMA4VpHASmU/wAGFgcAqgGzACUi8wA/+nMCwIYbAD/BuwA3ZZMAG3YvAqjNrwP89i8DP/5DAVVuHwEZMkcBo5aLAagNOwPMNYMB6xKnAPZOAwE9smsAfpi7AZOKBwBdFrMCkE2zAKzuPwOasnMDOOkvAYpWxwJCxOsByXYLA1v+hwCpmL8DAdofAFF+XwGGEk8B2GWvA4Y2IwOFNoMDdFprAyVN0wMhFjsCBVIfASSabwDVZmcDKvUjA3gp3wB6sqMDKx6TAt3iawLnzkcAmhIXA6rGTwNqJlcDv653AB62OwCOhmMA4xKDACm07wGJCpsAxbXXAjD6fwKvrG8CjpJ/ALW5WwMZmqMD6JWrAWjyVwGZmcMCPBofA5IqawIL1nMD1+I7AJa6/wKuNusDlSVXASYJdwJacqMDAF4nAJviZwCgaZsDhrUzAEWRvwNlkpcDTDJ/AkqeFwCEju8C+bFTAjkGVwO57W8AVY6HAnQVIwBLwicDzbVXA2HJQwBBhesCR33zAerKAwBhgjcBaGZzAXo6awCFSV8CQKFDAG9OWwL6DjsCCFavAIts4wJN0scBFaHrAL4k9wJsRZ8C4HaLAFHiVwDQ50cDAI5XAfauDwP9ykMA1T53A8XGowONVhMDrtbvALiyPwJp9gMA6mIzA9i4mwKXzhcC58lvA10VswLiVtMDdg6HA63WFwHp3lcDSPX7Axh6FwJoascBSy4jAvE16wLkJpsDMOV7AWr6XwPEyzMDjKBzAHs6qwHdtkMAf1ZjAuKQ9wLDFMsBxLaDAGTe1wOB1jsD8t5PALmWKwHernMDtX5XAGNmTwNpjDsAyRIDAXXpiwOyaqcB2eFTApRCBwKSCMMBDvoPAMKdtwEjiFsBB/qfA+QiGwEzZe8D9VJHAyDp2wFwzkMC9iZbA0lR7wAfSmsCFbEvA1bh1wALtgsD9HTLApm+UwNzhhcD5lLnA/BqcwIXEEcDw+UDAFYt+wE9Db8B1OI/A//xHwJgsmcBJMpPAM5ddwIu0kMAUFznAIaiIwNr/qcCgZVjAWayiwLzQi8BI/ITAqtOJwGI7J8CprpLAjyaSwBlLpcBsOZPAVkCCwJ7AJsClL2XALJOPwHrIj8AefpXAhFmTwBwUjcCU6ZHAnIdGwJzap8Bu2mrAwnd3wL3hfMCccI7A80xcwNg2gsCY74HA9mWYwOVak8DMIbbA44qXwNc0McA27nTA2dCYwF/ujsCaFknAI22hwB80UMBHX4HAiCaTwGU+esA3GYXAIrS4wNShjsDdon3Ageo6wGdVg8CUzZDA+qhdwDygX8C4ZWvAmReIwMc1ecDJQ13AKd2CwLdqpsDjG6vAV4ygwH3LSsDezFLAhexuwD69j8CChKvAGnWdwIEdacBT7oDA6Q1rwHCdkMAdxnDAGVw5wP7WjcAi9z3ARDmIwAOOucBZBE3AMTwwwLEKjcACocLA7XZDwPwVr8ASeUrAwLKrwNJHQMAyIJzA5yavwD23dsB15o3APxhowBPQp8CHN2DA+n+5wE7AkcB0gZfA9q+QwNrCmMDLwp7A7omDwDzNe8A=",
          "dtype": "f4"
         },
         "yaxis": "y"
        },
        {
         "hovertemplate": "Cluster=4<br>UMAP1=%{x}<br>UMAP2=%{y}<extra></extra>",
         "legendgroup": "4",
         "marker": {
          "color": "#EF553B",
          "opacity": 0.8,
          "size": 5,
          "symbol": "circle"
         },
         "mode": "markers",
         "name": "4",
         "showlegend": true,
         "type": "scattergl",
         "x": {
          "bdata": "QIQpQJWyH0AfQlBAqZ6PPDZs+z/t5fE/xDw0PVSMvD/gcg2/9RQvPyoNKkDxs/g+Xz8KP15Esb4+9TC/t50NQCmvREAcUHk+ONfDPqjHUb4fhoI+mhydvgaADUCBbCNAz2YGQFD5oT+UVuw/YCH+PRJBFj8w2u4+H/EBvHdlkj/SQvc/HAqqP6eI6r1yz46+tCixPrjVCkCuaiu/jH9EQMLkjD/2z1o+uHNeQHG3Cz6zjOM/siEavQNfYD82DpA+wDiGPw83Pz3Jnva+hzqAP1cdyT9baT1AiNfQvR5S0j/H2ZQ+h1yxvSNYMr09jr6+gdVGPDBRKUAfTUc/79AbQLYsjz/oR7m+5LOSP79mZj4029s/N0u1PTae0D/7hNk9y47IP17cC748/F6+ZjbyP3wXFD9QpYE+Rfq2vub4fz6GcZ0/OgOIPu6a7z+/IHm+ny/AP4EZuD/rQSC+VcS+P2xD7b515p0/pTE0P7sWnT9V8j2/LX6QvupmnD4NJIY/Aia5vpgBBkBqHuw+miANQIOXgz4YchE+Ntz1vr2/9D/IyAtACI3nvmnQ4j+GD0Y/YGyzP16Tmj49WMo/HhZQQAiIKT5lbmo/zvK8PnPoOD861Dw/hN0FQPgk0b5tq/s/fAILPwrypT/nOak/pmQmvm/jR0AFCPc+qsffPwcN+z8wF7I/1675Pi54/z3SI3s/x+UUv8QSCb8qDZg/ieKZP3QbAkBRJBQ/8C+1PR1N+j5m8DA+PN1BP72SGj8g+PA/r8kCQBKcgb4+Yp8/g4hYPmi0Pz/O1lg+H6UBQJocsz9vtTk/o2WsvUOhU77dAfA/1h72P0ftPj6w0fo/qfRcPz2Ml77xwqw/r3ZLv1j1Xj4gIfm9zRRqPy3l5D8xHRxAWuH7P8Az2T6knhBAI9oBv3I4N77l7BdAdTXMPwGqX0DhRhxAjawkP5rN9b4Q2U6+UxXIP/o+Lr7hKo8/UVCDvpfAST9NA8U+MaqOPrZudz8RBxJAt6lGPokGAEAzRFo/maRVPu6cxz8tmXc/3mHzvklFBEDD+Yg/uXXNPs4YGD5Tzbi+cpAPP1Dw+77rfOI+K508P5Xsmj8kGkY+nWGmPz1yDr5ZgVBANeEBP1Lc07uQJipAk70JviDE1r6aTFm+j0SHPlMXg75BD2c/6OUEPk8lAb5x3WY/Ujr+vf5QGD8DScQ/M5nsvpxgH0BEoCI/iGkpP72Xhj/DrvC9679jPjjQIz+WK/4/AeilP9iT4Txp2lk/XnNCvnGACT8MEY0/M6GmPxBIeD9gP3e+5juQP5NmQD7jyK4/mJM7QKGSPj8BGxK/qLIcP3Dr3D/yat8/MC7pPbW/xj9u4x8/7VdXQA6vMj/JRfE/JQMXv0wzYj7bQJc+J+aYP+Vv5b0g+E0/XHKuvryCkL5QgvY+J/CDP1J/KD0ZNRC+MZWKPTZbvD399aa9OrkRP4O5KT8Y0Qq+ZIRIP3ajvj9MGcE9QYcPQLmBCUCpFqE/glwJv7uvxz9xdgS/s9oSPz2DWj++A8Q/OLT+Pnad3D6nQ7I/0YGrP2RVlz/8Olw/a5Adv8nvO754KZY8UHztPypFez3srao/R8AyPlLo0z6jdFc+qL2LPRV2oj+8WVY/QQa/P1RYvz4vvgZAlU8iP9TXmD97+Gs/Yc3YPyQKu75D5e0/tIA5P3bngbxTWoW+aVY/Pn+ViD/ipB6/AYQBP+WMxD8z1CRAuRicPnUO4D7LctY/N3pdP1kByr6+VOU/qr3JP7LZMT+f2s8/qkF3PXs7wD8RqSs/jVdXPzLhHD/lnp8/nzIDQNvwaz+yswK/O2X1Pl3eF78=",
          "dtype": "f4"
         },
         "xaxis": "x",
         "y": {
          "bdata": "V+3MP6hHsz8cnj4/z0orQIqFhj9JSwRAfVIWQE5EBUC/QgBA6FGmP1QJpD8cgJM/isHiP8Rzjz+bS8s/0/bgP7kRaD81B40/03OWP1QsAEBb94w/hohfP1a/1z9cN5w/C5C5P1Ijmz9SmpU/CcWdPzavID96oso/Nw6hPzMwcT/Fw4U/zGwGQM3zxT+SAWo/qasMQPaL9z/7dLk/qr+dP/mY8T+zWOA/Dd74Ph0llj/UiuQ/ysqbP27rCT82h9A+v3IlPwE6Lz+xatI/1E3/P5mTuj+6l10/zrubP6t+MD+Avus/1eqpP2vbPD834CZA52gSQF//wD90cqQ/EAfpPxas5T9Ekoo/85sEQAkO9j+JIBJAN9SkP8ICrD+JlvQ/JgF2P3+I/j/yA5I/d/eCP3exqj+ZCBNAxvChPy79EUCtYqg/AZgmP4TWgj8PvyVAnmG7Px79tD+GYHE/ub9nPwn3FEDdYtg/njGvP5YspD+z6Mw/6MwpQAVxuj+Lopo/L5+GP4oEwj/L/ro/AuXhP4lLHj9d02M/QIfnP+we1z9kgZs/MuMGQEnayD9G2vc//Q2+PxxjFEC2xJI/miNxPoz30T8s1o8/z22DPzXMvD+oKbY/uX+cP6CRmj982t4/FO1LP3WwFUB3Z3Y/q2cbQG4FmD91shNAMG5WP+AzoT9w1FI/6/N2P2dF1D8M2jY/ItS1P3vGoj+Jqd0/EEsBQEbs1D91WwpADNgQQH8DxD94BJU/jV/fP1lqbz/yuOs/RHSmPxYrpD+1fIo/tUAZQHrcnT92bz8/H7rGPyHxgz+SzQlAPo4zP2V3KT9QEZc/N/UEQLjvrz/lYJw/mCaqP5tpxD/7YQZAA2oEQBmJzj8ayMA/t/SXP2lhrj/qZtk/B2XqPzzxoz+rTq4/6XzKPwxkDUAMDc4//bsJQJscIj/aq2U/4H3xP/ER6T/O2HQ/EVJbP1pjYT8aJwM/75EpQLYdVD8EvpQ/BU6lP/3VnD8ZB5o/FvJzP9Bxlj/OrSA/Hyz1P2ET9T+Gdf0/YKQZQMiUBECs3ghA2Nd8P9TMKkDUZqk/Dk6vPwN38T8qCwNA2nrhP5FoBkBhYe4//E9VPwga9T/q0R0/nIhTP+qi5D/teZY/O3pAP4mGDUCVy5Y/g6YaQEXW/D/NM9U/sA/sP/3WJ0BJFK0/OsvIP6PG6T8h/mc/lhrLP5kIsT/FWtc/oybmP23JDT89zSU/ivdgP3nxB0DL+bw/BiS/P3/+gz8fKOE/whgDQDWwRD/pkbM/3hXSP3iy4j+K/wJAZKGJP8UX7D/X1e8/e4GQP8t86D/4L6Y/2WKoP4/wkz8r/tc/ylTVP50gwj+cH9Y/m01mPi02jj9bqqg/Zxr4P+YC2D/Phbw/242zP9Vtvz+DAv8/vDR6P+AlDkCG+Fg/5oemPy9BG0AZVdM/7zEBQF+Wnz/KxWw/ZNQfQMChvj+dzbM/jjfSP1iNoj+dOow/LFPVP/TStz/zoqA/7nLTP5iW5D+/1O4/8zUXQLnvmz8mejo/B6aQP1zcLkBuLw5AUq9cPyCpBEDmJUc/RighQHToEEA0n/w/wUYTQGjrA0ApWQRA8bE9P2nr/D98N6w/7eb8P/026j+Nfa8/LrfLP2LKbj/MGa4/dGQbP2MyyD9Td0s/xu0MQLhV0D8IHLI/TQYhP+S9CUC2UhFAvWeoP3FaDEAf1as/LpgPQPq9ij+6/Mg/GLtMP4s3LT/miAZACwrHP0hBxT8RCtc/EeCwPzgpHEDmaAhA5DirPzSbmD9uMxRAAVm7PwmZ+D8dhJ0/QyZwP4PcKD9Fbmk/I4UEP5JS2D8=",
          "dtype": "f4"
         },
         "yaxis": "y"
        },
        {
         "hovertemplate": "Cluster=0<br>UMAP1=%{x}<br>UMAP2=%{y}<extra></extra>",
         "legendgroup": "0",
         "marker": {
          "color": "#00cc96",
          "opacity": 0.8,
          "size": 5,
          "symbol": "circle"
         },
         "mode": "markers",
         "name": "0",
         "showlegend": true,
         "type": "scattergl",
         "x": {
          "bdata": "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",
          "dtype": "f4"
         },
         "xaxis": "x",
         "y": {
          "bdata": "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",
          "dtype": "f4"
         },
         "yaxis": "y"
        },
        {
         "hovertemplate": "Cluster=2<br>UMAP1=%{x}<br>UMAP2=%{y}<extra></extra>",
         "legendgroup": "2",
         "marker": {
          "color": "#ab63fa",
          "opacity": 0.8,
          "size": 5,
          "symbol": "circle"
         },
         "mode": "markers",
         "name": "2",
         "showlegend": true,
         "type": "scattergl",
         "x": {
          "bdata": "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",
          "dtype": "f4"
         },
         "xaxis": "x",
         "y": {
          "bdata": "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",
          "dtype": "f4"
         },
         "yaxis": "y"
        },
        {
         "hovertemplate": "Cluster=6<br>UMAP1=%{x}<br>UMAP2=%{y}<extra></extra>",
         "legendgroup": "6",
         "marker": {
          "color": "#FFA15A",
          "opacity": 0.8,
          "size": 5,
          "symbol": "circle"
         },
         "mode": "markers",
         "name": "6",
         "showlegend": true,
         "type": "scattergl",
         "x": {
          "bdata": "R9ipP409RkAIhNQ/suBSPy0Y5D/FI9Y/XejcP5k2qT/Jey5AjYjIP9KOpj/hKgZAYAfvP9aDQEAs4tQ/YSGtP3m8mz9dloU/sVhwQLB3A0D4bEE/ZbzBP1ANF0Cl8gBA7JfbPwsbjD/LgNA/MVHmP+y98T9kWu0/R/DrPxVxB0CSj60/Dtl5PzBOmz+eMDJAFgovQMt6YkBh81pAwY8LQBttsz8bg4Q/I8vWPyr4zT8Exco/TJuaP8rLpz/74RJAWBkmQAloA0BuYQlA3TZpQLRuJECrloY/V/kgQOk05j/H85k/9RQOQMprvj80pYA/g2B1P4Hikz/VGpI/7dfIP8jhnj88+P4/WEwAQCX05D8K/PE/UKpUQNyoGEBxbVZAzwK5P3AI2j/ElIU/vYGAPzrcuj9ostI/qW3vP+3JxD8LEa8/Q+/vP1Bt2T+B6bY/axLtP3kK3D8ur7M/zKOpP4dG2D8hLiNA+Bx2P/IdmD8UpKw/M4e2P2c4REA0HGk/UHj9P3yu8D+0/bU/hO7dP5lyDkAqn0s/F9iZP67A1D97QpU/pd/4P9Fspz8tF1JA3SqwP2BTTkDSvyhAe94QQOqZlD/2wvE/nzpkP+fkpD9tMW4/pc3zPyZ6B0CEqA5AnepsQHzr4D+8sfs/oOa5P7ZDiT+phdc/bT8KQHq8aD9K16w/1QNyQApA+z9n2ew/hrbsP/PX1j/wmOQ/rFXTP5eVoz/sURNA/0c0QK4yij8qfsk/ImrTP+CQrT+dxNY/ZTL0P4QXrD+nvSpA0I2KPy0/jT+fvu4/cUe7P9lW7T8Ex44/SHanPw==",
          "dtype": "f4"
         },
         "xaxis": "x",
         "y": {
          "bdata": "vZ02wPyvMcCHqDTAa70ywJ3ENsAm3DnAgahawG9TPsBrMnjAxShbwDqRRsAftGbArlYvwKa/NMDnZl7ATmxnwMETKMAZn0jAuzVHwDPwXsBnLzDAZZkYwNWK6r84GEnA6lQ4wO0qU8DLcknATzJJwCarM8AA2jHAPvo8wFgJQsAi4DPAjglKwCtjUMApRzrAoUg0wLzhR8CGAjnAIyIywCLGJ8A5oy3AVJ44wO7LYMAkMVLALc9cwAcZTsCSFHvA4ns4wM+aO8Bf2jfA++8zwGAuP8C8gEbAr0pOwEtkPMAzbh7A6UpIwMFlccAVU1TA/OI9wO3iNcBAv0vAOeArwFAPbMAuwmrAGfxDwGJlacDWhknAKBsvwAX7McC6Lz7AD+wpwBQlacCOzyvABGlWwK0CGsCirzXAks89wL88R8BwVVDATpRgwFp5McAeijfATas/wFsxQ8B4ol3A2YlAwFyZUcDhiV7AbqE6wF5TPMCpbWvAD90wwOlqMcAcUkHA+/dKwFHzccBBo2HArpVZwODHD8Cf3kzAqzBSwHBpc8BnMh3AEOxkwBLeTsB6SDXAC9lEwHtuLsAShjbAItBFwPTlUsDf6mbAPplGwJ8IUcCifhjA+IB2wNiXK8DJN/u/7HQ2wMb2M8BHNE/AVmRTwK8DX8CpZh/AuPJawDT9R8BwSWbAmWBRwEkcCcATl2zAkEIXwDPTZsAOBivA9KZQwBusU8Bj0XPAppsrwAHXIsDpOH/AYj05wA0qPMCUU1DA0X5vwFf7OcDVf1XAZApHwOY4OMCoqEnAkjYewEl5TsCKPRPA6pUlwA==",
          "dtype": "f4"
         },
         "yaxis": "y"
        },
        {
         "hovertemplate": "Cluster=5<br>UMAP1=%{x}<br>UMAP2=%{y}<extra></extra>",
         "legendgroup": "5",
         "marker": {
          "color": "#19d3f3",
          "opacity": 0.8,
          "size": 5,
          "symbol": "circle"
         },
         "mode": "markers",
         "name": "5",
         "showlegend": true,
         "type": "scattergl",
         "x": {
          "bdata": "SzAUQFSWUECk8YtAtcVFQFwwi0AQ74hARCFqQCiwT0BhDIRAMI1SQHhgh0Dbcy1APAKNQBKia0DxH4pAXbqDQLxYlkCUQhZAjK11QPSSl0DnhYJApcw4QCS2X0B6R3FAlFWXQCHixz898DlANueQQH9lcEB4lVlAbCNsQBJ9i0DdZDpAXCaFQIRsjkDkeYZAFyiAQMbVBkArpWdAvBN6QFmThkCA4JFAp+eRQIreXkAlZVxAPwOEQPT2XEBxsZZAi4qQQO47gkA01Y9AwzxJQD9dbUBszn5AzRCBQKc1MkBjMXxADNKQQLAIkECB0oVAgM5vQApFkkDL+nJABLg7QE76hUBVnus/gQsiQEjteECUblZAS8hnQDngcED1F0RAlJmBQAWzgUCpwVNAPGBlQK9kikBMMolAeDSWQEdhkECFXYVAmJaYQBoShUD8/Y9AeX+IQAK1kUAZk41AGUqSQLMDikAe4mhAY8aMQIg2nUA0TIdAFjBpQLdSaEBgaWRA9XU6QPN2gkAVSoVApu1zQFwWZUADBmFA6dmVQD+NTUA9yJBAWfKJQIC2g0B5Ok5ATAeVQNElgkA72HJA7CiIQE5qmUAIXpdAAdaLQC7akkCfZGBAXhmZQFPmjUButY5ADsZxQC9hY0CrO4lAFzZpQHDwjEDkwoJA/E53QPouiUA3aZJAhC41QFtkgEDW95FA4flkQJAOhkCqrI5AFl+XQJAXKEDT6x5AxatxQGE4i0CyZIpA5EiaQD9wkUB0xFxAmoNsQGITWUDzGhRA5blfQNYLeUDp1lZAQAJBQNYrWEDVEUBAyvYlQPnlkUA=",
          "dtype": "f4"
         },
         "xaxis": "x",
         "y": {
          "bdata": "CN04QR8XMkEdXkpBFkE0QfgQQ0H5sjdBZmw+QUcdP0FV8DRBWCwxQQAxRUEbeDFBh0VJQX+nPkESVUZB9Yw5QYIxRkGG4jhB+/9BQVmNQEGip0RB7+A9QbwiQ0Hdy0FB+aJHQSxwM0EvAjxBQ6s7QQgxRUFLBj9BecFEQXUvPkHE6y1BlR05QZIvPEFu7DJBVK89QRqANkFn7UFBXiE8QaMPP0Gl+UpBbVxAQUIpMkHnBTZBbXZLQbg1MUEOTElBzQs0QXapOUELdEZBliY6QZuSRkHEOURBLFk5QVa2MkGWcj9Bv5lIQY7QSEEaVUxByiA2QaXjNkH5wzJBBpYwQWw6OEFN4S1ByHM5QWnvM0HdXENBjUU4QYcQQUHQCTlBNj0tQbVjPUHNTjBBfectQR9DP0FWe0VBt+01QQNMR0Hj0jRBLkZCQaPeRUHs/kBBaZ01QYIIREFnfj9B4bxAQZ1aQEGc5DhBqrZAQXIGSUH36z1BuJdGQYBDPkEmIjRBw8wvQYeQREGyKDpBpvMuQWwjO0FypERBjZ1JQaCGNkEM1ElBseU2QbWbOEF/2jtBkWQ8QXZJSkHsjUJBIe8yQbBjQkE9hkZB+ARLQdNsPUGdskFBpPVLQfDRTkEGVkRBq0xAQVIaP0H+hUtB/hI8Qe9fRUHvnUNBYhs8QeWhPUG9akdBD9I3Qd7LPkE8nEJBFis0QZn4O0Ex/jpBJhREQTsMO0ETly9Br0w8QfvdOUHe8UpB/3dFQSLtO0Fwb0BBw7czQSAfMkECgjFBH44tQbR9P0E6Rj1BrVw7QQRGQUHyPDlBafg2QfX1T0E=",
          "dtype": "f4"
         },
         "yaxis": "y"
        },
        {
         "hovertemplate": "Cluster=1<br>UMAP1=%{x}<br>UMAP2=%{y}<extra></extra>",
         "legendgroup": "1",
         "marker": {
          "color": "#FF6692",
          "opacity": 0.8,
          "size": 5,
          "symbol": "circle"
         },
         "mode": "markers",
         "name": "1",
         "showlegend": true,
         "type": "scattergl",
         "x": {
          "bdata": "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",
          "dtype": "f4"
         },
         "xaxis": "x",
         "y": {
          "bdata": "Hta/wMfD2sDJ3t3AEHnZwP7Mw8BgCMDAaXCtwNhAv8DeVbrAqdeXwC2rtcBI3bjAhMzRwATNrsArrrLA/wbVwG2PucCXpbrAKeeRwMFXwMCLY6fA1WrEwAcJtsCYjMPArNfiwLp+scAq977AOjHUwPh2jcB/pNfAPPrGwPhricDisrLA/4TVwG27ksD2BbTAsFytwIFPvMBPbc/A5nymwPSflMCmU8zAPiDfwMVnpsAA/9HA47CSwDHnosA/TMPAhIa6wBzivMB6cK3AoNylwE5xl8Bh1pjAgLXtwFZEi8C+e5bAi3jjwIOgvcDQhtHARHCtwFBDo8DhW8vAnajIwNwmpsAWrMnA+17VwH1jtMBte6vArZnJwO1gtcBQEKjAgcHiwH/om8A/oNPApNLXwAMtysA167fAJXzgwE7issBhSd/A2tDgwPfMqcCpq6/A7LLMwC5dk8Bsy6HAtsGOwOHWscCK4dfAMx7OwHiT1MACj5fAqPDewCc30cCZSsLAB/ttwMvqmsAJX6jAmfy7wOe418DaEaPAVLWLwPNLxcCQfNXAtDPFwIkEwsAlmbfA2SnVwB47p8CLDsnARfe7wCc42MCN2t3API3WwPEQ0cAm+crA7XvRwF8438BJbKLAM3ykwB64f8DWM9DAJK+5wOpyqMAl7NDAxCDTwPbbfMAzt9TAcbS+wDE9wsCFUZvA4giUwBnSwMCWirnAB+2ywJ3essB84KnAynXIwJS/x8B4A6/Alq+4wIE86cC9ddLAnbGhwKLYkMDPl4/Alq/DwDbDn8Byhs/ASqSYwNgAocCn1uDAOoivwFjeo8DbE8/AonS0wESz28CRaXfAMQqywHGVwsCDW9XAn9zAwDZMz8Crbs/A0buDwKg0tsBeX+DAPNPMwPALtsAxG7nAd5iWwI3j38AnpL3As7qkwMEgusBq6qbAi1inwEYJq8A5zLjA2lKewMdY38BJT8vAe7CTwCArlsCPEY7A053CwH2SrsDkpcHAfUazwOkQgsDElt3AO021wKRv2sAb/ODA9KG9wCEv0MBAAa7AxniRwKsOn8C3L7PAk6ekwHB8tcC4VLbA6v+twGxwssDOr7XAdaXHwCFxo8AD/cbAn8PdwJYb0sDeHKfAkeaxwCxDsMCXcqHAuUutwHlXzMCS77rAvmzdwPZz6cBSP6bATPeowCkYycBNcI/AhPzDwAqEusAy+NLAXMi1wDbu3MCqFLfANRqWwMMDwsDfrbvA8h6swHjkyMAdSdjAFavWwGY6rMDp/qjAsYPowJYW5MB1VJ/AzYahwNWM1sBo4cXACEbiwMs+nMBLEa/AGdubwHSmqMCkudXAnXTcwNSBqsBhB9HAChCfwOBNqsAaq8nA1Nd7wLEn4cAM3ovAzxS4wPx70cBDWpfAtbnLwP3YwcA0t5/AL4TdwONnl8D1RKPAV3SowNZRzcA+dqLAAeHTwNTVq8CTP4TAfi2owIn918ADfaLA+0vgwMpugcCpNaHABva8wK4j1cA6AJPAEKW+wI+HwMBBqqfA1rvdwP8k5sC/hr3AdATlwMri18AKTq7AsCaZwGpk4MBiOI3AfA2ywIj1hcBE7MrAAynawP8zyMDIzsnA8J6lwOaN58B+U9HAsv+WwMA05sBPLJ/AWpCfwHwH18C0eIXASB64wNEFrsAmUcPA8SS5wPM5w8AY1azAgEKmwMTj18ALad/Aq+TcwFPz0sDHsqLArmXjwBqpwcAX5pLAoT+/wPIDtMBVKM3AF1jMwIPlusAVoK3AT5bjwAY0g8D435vAKCq7wOtVtsBzv5nALhqpwF1b0cDMS7HAzem+wGqg0MAZ0bfAn2efwFL80MCOsLvAPTjUwBIuuMBxNM3A/MGTwFmjicArhNbAZZ6lwOCSusBL77bAObiswKZJtsAUj6jA2lPmwDgQ1cCUDsXAwsjAwIb5ssAww5rATbaqwPlXs8A9rbfAicXswGI3psB37ajA+YKdwJVNksDqDrPAcvXCwHu14sDSG53Al0DTwADwhsANtbfAo7G0wB1in8AoANfAEs7WwM9pjcA61bbANomuwHW+2cDRE73ApWnUwPlsysDSh9zA32xewMQrzcDAY6DAtArLwKavpsBw48XAOrOXwGl7ncAcedjAXb+5wByKmsBAhqvA3+vIwDa9rMBs9tTA6vnPwBzI1cAkfbvA6m6YwHT/l8CRxI/AIIC6wOGTo8AJgqDAVj/KwD0Y1MDNC6vAyA/kwHOiu8AQGLrA5/OXwOmXwsCGcuXAn8ziwC4pjMCnT+XA61t8wHhAwMAj2s3A5fmNwEKvpcCG3snA+3KfwH+t3cBjBofABRTmwNwXsMB9IJ7AyDqcwIZ9vMApH4nAwyW4wHjbxMCcEJnAXOzSwEJ1uMD5HJfAfHeuwMZEh8DgOdrABfHgwDlv3cA+1qrAsqXHwEgoz8Dfy6bA0EvpwPcgusB/ieLAFh2xwJJiucC7qLHAMUriwPEXrsDaJbrAAi7lwNTw58A75tvAwMvVwEJrl8BW/ZDA/ynFwEDlq8DyBIbAUuC0wJnno8AerLPAfm7kwF1oicBgMKvAq+eewC+0vcBa6bHANM3DwMBBxMA9xrzAA6q0wEHr58C+OdnAV8/bwCb9zsAmY67AWDyvwNDpxsAxvcjAyhjPwCpVu8BVIKTAjc6QwGjdzsAGb9vAGbC8wCoZl8Dkms3AuzTEwC6XmsCutrfA1B21wJvjrsDxDt3AzBzXwN5FycBVSdLAmmujwBLp0sBvHNvAysXGwMVB48AVGrnAxtCnwOVuyMC1Eb3AsE24wMsSs8DsHbfA0IC3wBf90cD3mbbA",
          "dtype": "f4"
         },
         "yaxis": "y"
        },
        {
         "hovertemplate": "Cluster=7<br>UMAP1=%{x}<br>UMAP2=%{y}<extra></extra>",
         "legendgroup": "7",
         "marker": {
          "color": "#B6E880",
          "opacity": 0.8,
          "size": 5,
          "symbol": "circle"
         },
         "mode": "markers",
         "name": "7",
         "showlegend": true,
         "type": "scattergl",
         "x": {
          "bdata": "E4A/QOCtZEAFCTlAd5JAQLX2XkAwX2JAoZsMQN+4PUAGPX9A4NIwQHbum0DRBZNAnKJnQCsGTUA1emJA2xdRQH5eYkDF6CdA6d+RQMGJpECM/2ZASSZNQD1qbUDyyIBA12RUQPrTWUADnVlAISdqQMC4p0CP7phABMqSQDXf4kBYs2BAjeBSQGxZkUAJt2JAafNWQFhgbUAeDnVA62BVQLCaZ0A6ex9ADmCNQCVpYUBUUYhAk5+UQL08XUBbnV5AMFQUQAyPZ0CDWU1ACO1rQO1SYEA=",
          "dtype": "f4"
         },
         "xaxis": "x",
         "y": {
          "bdata": "66joQGorzEBuXuNAtMvlQPJrez+P+cpAdz3yQFdD7kCSRhE/lJzhQE4Sz74smcK+AV/KQDpI3UCCC9NApZbsQM6l7EDvgelAgEuyOwkMtb6AbL5ApGfyQI3ZeT+Am+Q+VhbcQBIq1kDQF85Ar+7WQJ3zhL8RDLe+1byhvuU7XMAbS9BAI7DhQJ/aKj0ZT8RAjAHXQKnwTz/oCLA/vuHTQKylyUDqte1AGnTyPD3VzUCAXoQ+UHz0vSO31kBDtc1AJhHuQPilzECTLuBAMv+nP9A3gz8=",
          "dtype": "f4"
         },
         "yaxis": "y"
        },
        {
         "hovertemplate": "Cluster=8<br>UMAP1=%{x}<br>UMAP2=%{y}<extra></extra>",
         "legendgroup": "8",
         "marker": {
          "color": "#FF97FF",
          "opacity": 0.8,
          "size": 5,
          "symbol": "circle"
         },
         "mode": "markers",
         "name": "8",
         "showlegend": true,
         "type": "scattergl",
         "x": {
          "bdata": "Am3LQNER7UDRhO5AQl/IQLV3wUB2drhAMqLSQNOJxkAs7r5A8vP4QAItxUD4V85Av1TfQJl13UAvSsZAr0HRQA/70EAS6dVANnPUQABWwEAcssVANaTAQH7w2kAwl+dAU9jUQKuqxUCkv8ZAHBDMQOOT0EAV8L1As2TGQNmWzEBKx9ZAJ4jaQA==",
          "dtype": "f4"
         },
         "xaxis": "x",
         "y": {
          "bdata": "GmrVwJy9rsCfba7ANvjjwGvG08CFhtPAENrbwG1D28DuyOLAJi6hwGAA4sCZwc/AXmGwwCWA1cAdoNvAQdTewKF50cDyU9/A1u3cwFDY4sCmc93AmdvgwFNf28CF88PAccjEwAhO1cBYTObAUIPCwPip4cACf+TAfxfpwPL93cDhyN7A3pfYwA==",
          "dtype": "f4"
         },
         "yaxis": "y"
        },
        {
         "hovertemplate": "Cluster=9<br>UMAP1=%{x}<br>UMAP2=%{y}<extra></extra>",
         "legendgroup": "9",
         "marker": {
          "color": "#FECB52",
          "opacity": 0.8,
          "size": 5,
          "symbol": "circle"
         },
         "mode": "markers",
         "name": "9",
         "showlegend": true,
         "type": "scattergl",
         "x": {
          "bdata": "QjtaQdxNXEHPsFtBa1RcQdiqW0FIJltBSPVcQf5iW0GGxlpBspRcQXttWkE=",
          "dtype": "f4"
         },
         "xaxis": "x",
         "y": {
          "bdata": "Qz4sQQs+KkHbzipBBzIqQYDxK0FGMytBsJ8pQVAiK0F7QCtBjvYpQegbLEE=",
          "dtype": "f4"
         },
         "yaxis": "y"
        }
       ],
       "layout": {
        "legend": {
         "title": {
          "text": "Cluster"
         },
         "tracegroupgap": 0
        },
        "template": {
         "data": {
          "bar": [
           {
            "error_x": {
             "color": "#2a3f5f"
            },
            "error_y": {
             "color": "#2a3f5f"
            },
            "marker": {
             "line": {
              "color": "#E5ECF6",
              "width": 0.5
             },
             "pattern": {
              "fillmode": "overlay",
              "size": 10,
              "solidity": 0.2
             }
            },
            "type": "bar"
           }
          ],
          "barpolar": [
           {
            "marker": {
             "line": {
              "color": "#E5ECF6",
              "width": 0.5
             },
             "pattern": {
              "fillmode": "overlay",
              "size": 10,
              "solidity": 0.2
             }
            },
            "type": "barpolar"
           }
          ],
          "carpet": [
           {
            "aaxis": {
             "endlinecolor": "#2a3f5f",
             "gridcolor": "white",
             "linecolor": "white",
             "minorgridcolor": "white",
             "startlinecolor": "#2a3f5f"
            },
            "baxis": {
             "endlinecolor": "#2a3f5f",
             "gridcolor": "white",
             "linecolor": "white",
             "minorgridcolor": "white",
             "startlinecolor": "#2a3f5f"
            },
            "type": "carpet"
           }
          ],
          "choropleth": [
           {
            "colorbar": {
             "outlinewidth": 0,
             "ticks": ""
            },
            "type": "choropleth"
           }
          ],
          "contour": [
           {
            "colorbar": {
             "outlinewidth": 0,
             "ticks": ""
            },
            "colorscale": [
             [
              0,
              "#0d0887"
             ],
             [
              0.1111111111111111,
              "#46039f"
             ],
             [
              0.2222222222222222,
              "#7201a8"
             ],
             [
              0.3333333333333333,
              "#9c179e"
             ],
             [
              0.4444444444444444,
              "#bd3786"
             ],
             [
              0.5555555555555556,
              "#d8576b"
             ],
             [
              0.6666666666666666,
              "#ed7953"
             ],
             [
              0.7777777777777778,
              "#fb9f3a"
             ],
             [
              0.8888888888888888,
              "#fdca26"
             ],
             [
              1,
              "#f0f921"
             ]
            ],
            "type": "contour"
           }
          ],
          "contourcarpet": [
           {
            "colorbar": {
             "outlinewidth": 0,
             "ticks": ""
            },
            "type": "contourcarpet"
           }
          ],
          "heatmap": [
           {
            "colorbar": {
             "outlinewidth": 0,
             "ticks": ""
            },
            "colorscale": [
             [
              0,
              "#0d0887"
             ],
             [
              0.1111111111111111,
              "#46039f"
             ],
             [
              0.2222222222222222,
              "#7201a8"
             ],
             [
              0.3333333333333333,
              "#9c179e"
             ],
             [
              0.4444444444444444,
              "#bd3786"
             ],
             [
              0.5555555555555556,
              "#d8576b"
             ],
             [
              0.6666666666666666,
              "#ed7953"
             ],
             [
              0.7777777777777778,
              "#fb9f3a"
             ],
             [
              0.8888888888888888,
              "#fdca26"
             ],
             [
              1,
              "#f0f921"
             ]
            ],
            "type": "heatmap"
           }
          ],
          "histogram": [
           {
            "marker": {
             "pattern": {
              "fillmode": "overlay",
              "size": 10,
              "solidity": 0.2
             }
            },
            "type": "histogram"
           }
          ],
          "histogram2d": [
           {
            "colorbar": {
             "outlinewidth": 0,
             "ticks": ""
            },
            "colorscale": [
             [
              0,
              "#0d0887"
             ],
             [
              0.1111111111111111,
              "#46039f"
             ],
             [
              0.2222222222222222,
              "#7201a8"
             ],
             [
              0.3333333333333333,
              "#9c179e"
             ],
             [
              0.4444444444444444,
              "#bd3786"
             ],
             [
              0.5555555555555556,
              "#d8576b"
             ],
             [
              0.6666666666666666,
              "#ed7953"
             ],
             [
              0.7777777777777778,
              "#fb9f3a"
             ],
             [
              0.8888888888888888,
              "#fdca26"
             ],
             [
              1,
              "#f0f921"
             ]
            ],
            "type": "histogram2d"
           }
          ],
          "histogram2dcontour": [
           {
            "colorbar": {
             "outlinewidth": 0,
             "ticks": ""
            },
            "colorscale": [
             [
              0,
              "#0d0887"
             ],
             [
              0.1111111111111111,
              "#46039f"
             ],
             [
              0.2222222222222222,
              "#7201a8"
             ],
             [
              0.3333333333333333,
              "#9c179e"
             ],
             [
              0.4444444444444444,
              "#bd3786"
             ],
             [
              0.5555555555555556,
              "#d8576b"
             ],
             [
              0.6666666666666666,
              "#ed7953"
             ],
             [
              0.7777777777777778,
              "#fb9f3a"
             ],
             [
              0.8888888888888888,
              "#fdca26"
             ],
             [
              1,
              "#f0f921"
             ]
            ],
            "type": "histogram2dcontour"
           }
          ],
          "mesh3d": [
           {
            "colorbar": {
             "outlinewidth": 0,
             "ticks": ""
            },
            "type": "mesh3d"
           }
          ],
          "parcoords": [
           {
            "line": {
             "colorbar": {
              "outlinewidth": 0,
              "ticks": ""
             }
            },
            "type": "parcoords"
           }
          ],
          "pie": [
           {
            "automargin": true,
            "type": "pie"
           }
          ],
          "scatter": [
           {
            "fillpattern": {
             "fillmode": "overlay",
             "size": 10,
             "solidity": 0.2
            },
            "type": "scatter"
           }
          ],
          "scatter3d": [
           {
            "line": {
             "colorbar": {
              "outlinewidth": 0,
              "ticks": ""
             }
            },
            "marker": {
             "colorbar": {
              "outlinewidth": 0,
              "ticks": ""
             }
            },
            "type": "scatter3d"
           }
          ],
          "scattercarpet": [
           {
            "marker": {
             "colorbar": {
              "outlinewidth": 0,
              "ticks": ""
             }
            },
            "type": "scattercarpet"
           }
          ],
          "scattergeo": [
           {
            "marker": {
             "colorbar": {
              "outlinewidth": 0,
              "ticks": ""
             }
            },
            "type": "scattergeo"
           }
          ],
          "scattergl": [
           {
            "marker": {
             "colorbar": {
              "outlinewidth": 0,
              "ticks": ""
             }
            },
            "type": "scattergl"
           }
          ],
          "scattermap": [
           {
            "marker": {
             "colorbar": {
              "outlinewidth": 0,
              "ticks": ""
             }
            },
            "type": "scattermap"
           }
          ],
          "scattermapbox": [
           {
            "marker": {
             "colorbar": {
              "outlinewidth": 0,
              "ticks": ""
             }
            },
            "type": "scattermapbox"
           }
          ],
          "scatterpolar": [
           {
            "marker": {
             "colorbar": {
              "outlinewidth": 0,
              "ticks": ""
             }
            },
            "type": "scatterpolar"
           }
          ],
          "scatterpolargl": [
           {
            "marker": {
             "colorbar": {
              "outlinewidth": 0,
              "ticks": ""
             }
            },
            "type": "scatterpolargl"
           }
          ],
          "scatterternary": [
           {
            "marker": {
             "colorbar": {
              "outlinewidth": 0,
              "ticks": ""
             }
            },
            "type": "scatterternary"
           }
          ],
          "surface": [
           {
            "colorbar": {
             "outlinewidth": 0,
             "ticks": ""
            },
            "colorscale": [
             [
              0,
              "#0d0887"
             ],
             [
              0.1111111111111111,
              "#46039f"
             ],
             [
              0.2222222222222222,
              "#7201a8"
             ],
             [
              0.3333333333333333,
              "#9c179e"
             ],
             [
              0.4444444444444444,
              "#bd3786"
             ],
             [
              0.5555555555555556,
              "#d8576b"
             ],
             [
              0.6666666666666666,
              "#ed7953"
             ],
             [
              0.7777777777777778,
              "#fb9f3a"
             ],
             [
              0.8888888888888888,
              "#fdca26"
             ],
             [
              1,
              "#f0f921"
             ]
            ],
            "type": "surface"
           }
          ],
          "table": [
           {
            "cells": {
             "fill": {
              "color": "#EBF0F8"
             },
             "line": {
              "color": "white"
             }
            },
            "header": {
             "fill": {
              "color": "#C8D4E3"
             },
             "line": {
              "color": "white"
             }
            },
            "type": "table"
           }
          ]
         },
         "layout": {
          "annotationdefaults": {
           "arrowcolor": "#2a3f5f",
           "arrowhead": 0,
           "arrowwidth": 1
          },
          "autotypenumbers": "strict",
          "coloraxis": {
           "colorbar": {
            "outlinewidth": 0,
            "ticks": ""
           }
          },
          "colorscale": {
           "diverging": [
            [
             0,
             "#8e0152"
            ],
            [
             0.1,
             "#c51b7d"
            ],
            [
             0.2,
             "#de77ae"
            ],
            [
             0.3,
             "#f1b6da"
            ],
            [
             0.4,
             "#fde0ef"
            ],
            [
             0.5,
             "#f7f7f7"
            ],
            [
             0.6,
             "#e6f5d0"
            ],
            [
             0.7,
             "#b8e186"
            ],
            [
             0.8,
             "#7fbc41"
            ],
            [
             0.9,
             "#4d9221"
            ],
            [
             1,
             "#276419"
            ]
           ],
           "sequential": [
            [
             0,
             "#0d0887"
            ],
            [
             0.1111111111111111,
             "#46039f"
            ],
            [
             0.2222222222222222,
             "#7201a8"
            ],
            [
             0.3333333333333333,
             "#9c179e"
            ],
            [
             0.4444444444444444,
             "#bd3786"
            ],
            [
             0.5555555555555556,
             "#d8576b"
            ],
            [
             0.6666666666666666,
             "#ed7953"
            ],
            [
             0.7777777777777778,
             "#fb9f3a"
            ],
            [
             0.8888888888888888,
             "#fdca26"
            ],
            [
             1,
             "#f0f921"
            ]
           ],
           "sequentialminus": [
            [
             0,
             "#0d0887"
            ],
            [
             0.1111111111111111,
             "#46039f"
            ],
            [
             0.2222222222222222,
             "#7201a8"
            ],
            [
             0.3333333333333333,
             "#9c179e"
            ],
            [
             0.4444444444444444,
             "#bd3786"
            ],
            [
             0.5555555555555556,
             "#d8576b"
            ],
            [
             0.6666666666666666,
             "#ed7953"
            ],
            [
             0.7777777777777778,
             "#fb9f3a"
            ],
            [
             0.8888888888888888,
             "#fdca26"
            ],
            [
             1,
             "#f0f921"
            ]
           ]
          },
          "colorway": [
           "#636efa",
           "#EF553B",
           "#00cc96",
           "#ab63fa",
           "#FFA15A",
           "#19d3f3",
           "#FF6692",
           "#B6E880",
           "#FF97FF",
           "#FECB52"
          ],
          "font": {
           "color": "#2a3f5f"
          },
          "geo": {
           "bgcolor": "white",
           "lakecolor": "white",
           "landcolor": "#E5ECF6",
           "showlakes": true,
           "showland": true,
           "subunitcolor": "white"
          },
          "hoverlabel": {
           "align": "left"
          },
          "hovermode": "closest",
          "mapbox": {
           "style": "light"
          },
          "paper_bgcolor": "white",
          "plot_bgcolor": "#E5ECF6",
          "polar": {
           "angularaxis": {
            "gridcolor": "white",
            "linecolor": "white",
            "ticks": ""
           },
           "bgcolor": "#E5ECF6",
           "radialaxis": {
            "gridcolor": "white",
            "linecolor": "white",
            "ticks": ""
           }
          },
          "scene": {
           "xaxis": {
            "backgroundcolor": "#E5ECF6",
            "gridcolor": "white",
            "gridwidth": 2,
            "linecolor": "white",
            "showbackground": true,
            "ticks": "",
            "zerolinecolor": "white"
           },
           "yaxis": {
            "backgroundcolor": "#E5ECF6",
            "gridcolor": "white",
            "gridwidth": 2,
            "linecolor": "white",
            "showbackground": true,
            "ticks": "",
            "zerolinecolor": "white"
           },
           "zaxis": {
            "backgroundcolor": "#E5ECF6",
            "gridcolor": "white",
            "gridwidth": 2,
            "linecolor": "white",
            "showbackground": true,
            "ticks": "",
            "zerolinecolor": "white"
           }
          },
          "shapedefaults": {
           "line": {
            "color": "#2a3f5f"
           }
          },
          "ternary": {
           "aaxis": {
            "gridcolor": "white",
            "linecolor": "white",
            "ticks": ""
           },
           "baxis": {
            "gridcolor": "white",
            "linecolor": "white",
            "ticks": ""
           },
           "bgcolor": "#E5ECF6",
           "caxis": {
            "gridcolor": "white",
            "linecolor": "white",
            "ticks": ""
           }
          },
          "title": {
           "x": 0.05
          },
          "xaxis": {
           "automargin": true,
           "gridcolor": "white",
           "linecolor": "white",
           "ticks": "",
           "title": {
            "standoff": 15
           },
           "zerolinecolor": "white",
           "zerolinewidth": 2
          },
          "yaxis": {
           "automargin": true,
           "gridcolor": "white",
           "linecolor": "white",
           "ticks": "",
           "title": {
            "standoff": 15
           },
           "zerolinecolor": "white",
           "zerolinewidth": 2
          }
         }
        },
        "title": {
         "text": "UMAP with Discovered Clusters"
        },
        "xaxis": {
         "anchor": "y",
         "domain": [
          0,
          1
         ],
         "title": {
          "text": "UMAP1"
         }
        },
        "yaxis": {
         "anchor": "x",
         "domain": [
          0,
          1
         ],
         "title": {
          "text": "UMAP2"
         }
        }
       }
      }
     },
     "metadata": {},
     "output_type": "display_data"
    },
    {
     "data": {
      "image/png": "[encoded data removed]",
      "text/plain": [
       "<Figure size 1200x800 with 1 Axes>"
      ]
     },
     "metadata": {},
     "output_type": "display_data"
    }
   ],
   "source": [
    "# Example Usage\n",
    "if __name__ == \"__main__\":\n",
    "    # Load example single-cell data\n",
    "    adata = sc.datasets.pbmc3k()  # Example PBMC dataset\n",
    "    sc.pp.normalize_total(adata, target_sum=1e4)\n",
    "    sc.pp.log1p(adata)\n",
    "\n",
    "    # Discover new clusters\n",
    "    adata = discover_new_annotations(adata, clustering_resolution=0.8, n_pcs=50)\n",
    "\n",
    "    # Visualize discovered clusters on UMAP\n",
    "    fig = visualize_clusters_on_umap(adata, cluster_column=\"discovered_clusters\")\n",
    "    fig.show()\n",
    "\n",
    "    # Visualize gene expression in clusters using a bubble plot\n",
    "    plot_bubble_matrix(adata, cluster_column=\"discovered_clusters\", top_n_genes=10)\n"
   ]
  }
 ],
 "metadata": {
  "kernelspec": {
   "display_name": "talk2cells",
   "language": "python",
   "name": "python3"
  },
  "language_info": {
   "codemirror_mode": {
    "name": "ipython",
    "version": 3
   },
   "file_extension": ".py",
   "mimetype": "text/x-python",
   "name": "python",
   "nbconvert_exporter": "python",
   "pygments_lexer": "ipython3",
   "version": "3.11.11"
  }
 },
 "nbformat": 4,
 "nbformat_minor": 2
}
